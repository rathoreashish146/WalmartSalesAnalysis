{
 "cells": [
  {
   "cell_type": "markdown",
   "id": "324636ee",
   "metadata": {},
   "source": [
    "# Step 1: Asking questions:-\n",
    "# Objective of this EDA project is:\n",
    "# 1. The aims is to study how sales strategies can be improved and optimized. \n",
    "\n",
    "# 2. Explore the Walmart Sales data to understand top performing branches and products, sales trend of different products, customer behaviour. "
   ]
  },
  {
   "cell_type": "markdown",
   "id": "37098af1",
   "metadata": {},
   "source": [
    "# Step 2: Data Wrangling"
   ]
  },
  {
   "cell_type": "markdown",
   "id": "f6d226b5",
   "metadata": {},
   "source": [
    "# 2.1 Data Gathering from Direct Database"
   ]
  },
  {
   "cell_type": "code",
   "execution_count": 35,
   "id": "e0affa5f",
   "metadata": {},
   "outputs": [],
   "source": [
    "db_name = \"salesdatawalmart\"\n",
    "db_host = \"localhost\"\n",
    "db_username = \"root\"\n",
    "db_password = \"\""
   ]
  },
  {
   "cell_type": "code",
   "execution_count": 36,
   "id": "b8edc6a8",
   "metadata": {},
   "outputs": [
    {
     "name": "stdout",
     "output_type": "stream",
     "text": [
      "Requirement already satisfied: mysql-connector-python in c:\\users\\asus\\appdata\\local\\programs\\python\\python311\\lib\\site-packages (8.3.0)\n"
     ]
    }
   ],
   "source": [
    "!pip install mysql-connector-python"
   ]
  },
  {
   "cell_type": "code",
   "execution_count": 37,
   "id": "cbf2b1a6",
   "metadata": {},
   "outputs": [],
   "source": [
    "import mysql.connector\n",
    "import pandas as pd"
   ]
  },
  {
   "cell_type": "code",
   "execution_count": 38,
   "id": "bb0bba99",
   "metadata": {},
   "outputs": [],
   "source": [
    "try:\n",
    "    conn=mysql.connector.connect(host=db_host,\n",
    "                          port=int(3308),\n",
    "                          user='root',\n",
    "                          passwd=db_password,\n",
    "                          db=db_name)\n",
    "except Exception as e:\n",
    "    print(e)"
   ]
  },
  {
   "cell_type": "markdown",
   "id": "545692f0",
   "metadata": {},
   "source": [
    "# 2.2 Assessing Data"
   ]
  },
  {
   "cell_type": "code",
   "execution_count": 39,
   "id": "2015f09e",
   "metadata": {},
   "outputs": [
    {
     "name": "stderr",
     "output_type": "stream",
     "text": [
      "C:\\Users\\asus\\AppData\\Local\\Temp\\ipykernel_66552\\454738777.py:1: UserWarning: pandas only supports SQLAlchemy connectable (engine/connection) or database string URI or sqlite3 DBAPI2 connection. Other DBAPI2 objects are not tested. Please consider using SQLAlchemy.\n",
      "  pd.read_sql_query(\"SELECT * FROM sales\",conn)\n"
     ]
    },
    {
     "data": {
      "text/html": [
       "<div>\n",
       "<style scoped>\n",
       "    .dataframe tbody tr th:only-of-type {\n",
       "        vertical-align: middle;\n",
       "    }\n",
       "\n",
       "    .dataframe tbody tr th {\n",
       "        vertical-align: top;\n",
       "    }\n",
       "\n",
       "    .dataframe thead th {\n",
       "        text-align: right;\n",
       "    }\n",
       "</style>\n",
       "<table border=\"1\" class=\"dataframe\">\n",
       "  <thead>\n",
       "    <tr style=\"text-align: right;\">\n",
       "      <th></th>\n",
       "      <th>invoice_id</th>\n",
       "      <th>branch</th>\n",
       "      <th>city</th>\n",
       "      <th>customer_type</th>\n",
       "      <th>gender</th>\n",
       "      <th>product_line</th>\n",
       "      <th>unit_price</th>\n",
       "      <th>quantity</th>\n",
       "      <th>tax_pct</th>\n",
       "      <th>total</th>\n",
       "      <th>date</th>\n",
       "      <th>time</th>\n",
       "      <th>payment</th>\n",
       "      <th>cogs</th>\n",
       "      <th>gross_margin_pct</th>\n",
       "      <th>gross_income</th>\n",
       "      <th>rating</th>\n",
       "      <th>time_of_day</th>\n",
       "      <th>day</th>\n",
       "      <th>MonthName</th>\n",
       "    </tr>\n",
       "  </thead>\n",
       "  <tbody>\n",
       "    <tr>\n",
       "      <th>0</th>\n",
       "      <td>101-17-6199</td>\n",
       "      <td>A</td>\n",
       "      <td>Yangon</td>\n",
       "      <td>Normal</td>\n",
       "      <td>Male</td>\n",
       "      <td>Food and beverages</td>\n",
       "      <td>45.79</td>\n",
       "      <td>7</td>\n",
       "      <td>16.0265</td>\n",
       "      <td>336.5565</td>\n",
       "      <td>2019-03-13</td>\n",
       "      <td>0 days 19:44:00</td>\n",
       "      <td>Credit card</td>\n",
       "      <td>320.53</td>\n",
       "      <td>4.761905</td>\n",
       "      <td>16.0265</td>\n",
       "      <td>7.0</td>\n",
       "      <td>Evening</td>\n",
       "      <td>Wednesday</td>\n",
       "      <td>March</td>\n",
       "    </tr>\n",
       "    <tr>\n",
       "      <th>1</th>\n",
       "      <td>101-81-4070</td>\n",
       "      <td>C</td>\n",
       "      <td>Naypyitaw</td>\n",
       "      <td>Member</td>\n",
       "      <td>Female</td>\n",
       "      <td>Health and beauty</td>\n",
       "      <td>62.82</td>\n",
       "      <td>2</td>\n",
       "      <td>6.2820</td>\n",
       "      <td>131.9220</td>\n",
       "      <td>2019-01-17</td>\n",
       "      <td>0 days 12:36:00</td>\n",
       "      <td>Ewallet</td>\n",
       "      <td>125.64</td>\n",
       "      <td>4.761905</td>\n",
       "      <td>6.2820</td>\n",
       "      <td>4.9</td>\n",
       "      <td>Afternoon</td>\n",
       "      <td>Thursday</td>\n",
       "      <td>January</td>\n",
       "    </tr>\n",
       "    <tr>\n",
       "      <th>2</th>\n",
       "      <td>102-06-2002</td>\n",
       "      <td>C</td>\n",
       "      <td>Naypyitaw</td>\n",
       "      <td>Member</td>\n",
       "      <td>Male</td>\n",
       "      <td>Sports and travel</td>\n",
       "      <td>25.25</td>\n",
       "      <td>5</td>\n",
       "      <td>6.3125</td>\n",
       "      <td>132.5625</td>\n",
       "      <td>2019-03-20</td>\n",
       "      <td>0 days 17:52:00</td>\n",
       "      <td>Cash</td>\n",
       "      <td>126.25</td>\n",
       "      <td>4.761905</td>\n",
       "      <td>6.3125</td>\n",
       "      <td>6.1</td>\n",
       "      <td>Evening</td>\n",
       "      <td>Wednesday</td>\n",
       "      <td>March</td>\n",
       "    </tr>\n",
       "    <tr>\n",
       "      <th>3</th>\n",
       "      <td>102-77-2261</td>\n",
       "      <td>C</td>\n",
       "      <td>Naypyitaw</td>\n",
       "      <td>Member</td>\n",
       "      <td>Male</td>\n",
       "      <td>Health and beauty</td>\n",
       "      <td>65.31</td>\n",
       "      <td>7</td>\n",
       "      <td>22.8585</td>\n",
       "      <td>480.0285</td>\n",
       "      <td>2019-03-05</td>\n",
       "      <td>0 days 18:02:00</td>\n",
       "      <td>Credit card</td>\n",
       "      <td>457.17</td>\n",
       "      <td>4.761905</td>\n",
       "      <td>22.8585</td>\n",
       "      <td>4.2</td>\n",
       "      <td>Evening</td>\n",
       "      <td>Tuesday</td>\n",
       "      <td>March</td>\n",
       "    </tr>\n",
       "    <tr>\n",
       "      <th>4</th>\n",
       "      <td>105-10-6182</td>\n",
       "      <td>A</td>\n",
       "      <td>Yangon</td>\n",
       "      <td>Member</td>\n",
       "      <td>Male</td>\n",
       "      <td>Fashion accessories</td>\n",
       "      <td>21.48</td>\n",
       "      <td>2</td>\n",
       "      <td>2.1480</td>\n",
       "      <td>45.1080</td>\n",
       "      <td>2019-02-27</td>\n",
       "      <td>0 days 12:22:00</td>\n",
       "      <td>Ewallet</td>\n",
       "      <td>42.96</td>\n",
       "      <td>4.761905</td>\n",
       "      <td>2.1480</td>\n",
       "      <td>6.6</td>\n",
       "      <td>Afternoon</td>\n",
       "      <td>Wednesday</td>\n",
       "      <td>February</td>\n",
       "    </tr>\n",
       "    <tr>\n",
       "      <th>...</th>\n",
       "      <td>...</td>\n",
       "      <td>...</td>\n",
       "      <td>...</td>\n",
       "      <td>...</td>\n",
       "      <td>...</td>\n",
       "      <td>...</td>\n",
       "      <td>...</td>\n",
       "      <td>...</td>\n",
       "      <td>...</td>\n",
       "      <td>...</td>\n",
       "      <td>...</td>\n",
       "      <td>...</td>\n",
       "      <td>...</td>\n",
       "      <td>...</td>\n",
       "      <td>...</td>\n",
       "      <td>...</td>\n",
       "      <td>...</td>\n",
       "      <td>...</td>\n",
       "      <td>...</td>\n",
       "      <td>...</td>\n",
       "    </tr>\n",
       "    <tr>\n",
       "      <th>994</th>\n",
       "      <td>892-05-6689</td>\n",
       "      <td>A</td>\n",
       "      <td>Yangon</td>\n",
       "      <td>Normal</td>\n",
       "      <td>Female</td>\n",
       "      <td>Home and lifestyle</td>\n",
       "      <td>28.32</td>\n",
       "      <td>5</td>\n",
       "      <td>7.0800</td>\n",
       "      <td>148.6800</td>\n",
       "      <td>2019-03-11</td>\n",
       "      <td>0 days 13:28:00</td>\n",
       "      <td>Ewallet</td>\n",
       "      <td>141.60</td>\n",
       "      <td>4.761905</td>\n",
       "      <td>7.0800</td>\n",
       "      <td>6.2</td>\n",
       "      <td>Afternoon</td>\n",
       "      <td>Monday</td>\n",
       "      <td>March</td>\n",
       "    </tr>\n",
       "    <tr>\n",
       "      <th>995</th>\n",
       "      <td>894-41-5205</td>\n",
       "      <td>C</td>\n",
       "      <td>Naypyitaw</td>\n",
       "      <td>Normal</td>\n",
       "      <td>Female</td>\n",
       "      <td>Food and beverages</td>\n",
       "      <td>43.18</td>\n",
       "      <td>8</td>\n",
       "      <td>17.2720</td>\n",
       "      <td>362.7120</td>\n",
       "      <td>2019-01-19</td>\n",
       "      <td>0 days 19:39:00</td>\n",
       "      <td>Credit card</td>\n",
       "      <td>345.44</td>\n",
       "      <td>4.761905</td>\n",
       "      <td>17.2720</td>\n",
       "      <td>8.3</td>\n",
       "      <td>Evening</td>\n",
       "      <td>Saturday</td>\n",
       "      <td>January</td>\n",
       "    </tr>\n",
       "    <tr>\n",
       "      <th>996</th>\n",
       "      <td>895-66-0685</td>\n",
       "      <td>B</td>\n",
       "      <td>Mandalay</td>\n",
       "      <td>Member</td>\n",
       "      <td>Male</td>\n",
       "      <td>Food and beverages</td>\n",
       "      <td>18.08</td>\n",
       "      <td>3</td>\n",
       "      <td>2.7120</td>\n",
       "      <td>56.9520</td>\n",
       "      <td>2019-03-05</td>\n",
       "      <td>0 days 19:46:00</td>\n",
       "      <td>Ewallet</td>\n",
       "      <td>54.24</td>\n",
       "      <td>4.761905</td>\n",
       "      <td>2.7120</td>\n",
       "      <td>8.0</td>\n",
       "      <td>Evening</td>\n",
       "      <td>Tuesday</td>\n",
       "      <td>March</td>\n",
       "    </tr>\n",
       "    <tr>\n",
       "      <th>997</th>\n",
       "      <td>896-34-0956</td>\n",
       "      <td>A</td>\n",
       "      <td>Yangon</td>\n",
       "      <td>Normal</td>\n",
       "      <td>Male</td>\n",
       "      <td>Fashion accessories</td>\n",
       "      <td>21.32</td>\n",
       "      <td>1</td>\n",
       "      <td>1.0660</td>\n",
       "      <td>22.3860</td>\n",
       "      <td>2019-01-26</td>\n",
       "      <td>0 days 12:43:00</td>\n",
       "      <td>Cash</td>\n",
       "      <td>21.32</td>\n",
       "      <td>4.761905</td>\n",
       "      <td>1.0660</td>\n",
       "      <td>5.9</td>\n",
       "      <td>Afternoon</td>\n",
       "      <td>Saturday</td>\n",
       "      <td>January</td>\n",
       "    </tr>\n",
       "    <tr>\n",
       "      <th>998</th>\n",
       "      <td>898-04-2717</td>\n",
       "      <td>A</td>\n",
       "      <td>Yangon</td>\n",
       "      <td>Normal</td>\n",
       "      <td>Male</td>\n",
       "      <td>Fashion accessories</td>\n",
       "      <td>76.40</td>\n",
       "      <td>9</td>\n",
       "      <td>34.3800</td>\n",
       "      <td>721.9800</td>\n",
       "      <td>2019-03-19</td>\n",
       "      <td>0 days 15:49:00</td>\n",
       "      <td>Ewallet</td>\n",
       "      <td>687.60</td>\n",
       "      <td>4.761905</td>\n",
       "      <td>34.3800</td>\n",
       "      <td>7.5</td>\n",
       "      <td>Afternoon</td>\n",
       "      <td>Tuesday</td>\n",
       "      <td>March</td>\n",
       "    </tr>\n",
       "  </tbody>\n",
       "</table>\n",
       "<p>999 rows × 20 columns</p>\n",
       "</div>"
      ],
      "text/plain": [
       "      invoice_id branch       city customer_type  gender         product_line  \\\n",
       "0    101-17-6199      A     Yangon        Normal    Male   Food and beverages   \n",
       "1    101-81-4070      C  Naypyitaw        Member  Female    Health and beauty   \n",
       "2    102-06-2002      C  Naypyitaw        Member    Male    Sports and travel   \n",
       "3    102-77-2261      C  Naypyitaw        Member    Male    Health and beauty   \n",
       "4    105-10-6182      A     Yangon        Member    Male  Fashion accessories   \n",
       "..           ...    ...        ...           ...     ...                  ...   \n",
       "994  892-05-6689      A     Yangon        Normal  Female   Home and lifestyle   \n",
       "995  894-41-5205      C  Naypyitaw        Normal  Female   Food and beverages   \n",
       "996  895-66-0685      B   Mandalay        Member    Male   Food and beverages   \n",
       "997  896-34-0956      A     Yangon        Normal    Male  Fashion accessories   \n",
       "998  898-04-2717      A     Yangon        Normal    Male  Fashion accessories   \n",
       "\n",
       "     unit_price  quantity  tax_pct     total       date            time  \\\n",
       "0         45.79         7  16.0265  336.5565 2019-03-13 0 days 19:44:00   \n",
       "1         62.82         2   6.2820  131.9220 2019-01-17 0 days 12:36:00   \n",
       "2         25.25         5   6.3125  132.5625 2019-03-20 0 days 17:52:00   \n",
       "3         65.31         7  22.8585  480.0285 2019-03-05 0 days 18:02:00   \n",
       "4         21.48         2   2.1480   45.1080 2019-02-27 0 days 12:22:00   \n",
       "..          ...       ...      ...       ...        ...             ...   \n",
       "994       28.32         5   7.0800  148.6800 2019-03-11 0 days 13:28:00   \n",
       "995       43.18         8  17.2720  362.7120 2019-01-19 0 days 19:39:00   \n",
       "996       18.08         3   2.7120   56.9520 2019-03-05 0 days 19:46:00   \n",
       "997       21.32         1   1.0660   22.3860 2019-01-26 0 days 12:43:00   \n",
       "998       76.40         9  34.3800  721.9800 2019-03-19 0 days 15:49:00   \n",
       "\n",
       "         payment    cogs  gross_margin_pct  gross_income  rating time_of_day  \\\n",
       "0    Credit card  320.53          4.761905       16.0265     7.0     Evening   \n",
       "1        Ewallet  125.64          4.761905        6.2820     4.9   Afternoon   \n",
       "2           Cash  126.25          4.761905        6.3125     6.1     Evening   \n",
       "3    Credit card  457.17          4.761905       22.8585     4.2     Evening   \n",
       "4        Ewallet   42.96          4.761905        2.1480     6.6   Afternoon   \n",
       "..           ...     ...               ...           ...     ...         ...   \n",
       "994      Ewallet  141.60          4.761905        7.0800     6.2   Afternoon   \n",
       "995  Credit card  345.44          4.761905       17.2720     8.3     Evening   \n",
       "996      Ewallet   54.24          4.761905        2.7120     8.0     Evening   \n",
       "997         Cash   21.32          4.761905        1.0660     5.9   Afternoon   \n",
       "998      Ewallet  687.60          4.761905       34.3800     7.5   Afternoon   \n",
       "\n",
       "           day MonthName  \n",
       "0    Wednesday     March  \n",
       "1     Thursday   January  \n",
       "2    Wednesday     March  \n",
       "3      Tuesday     March  \n",
       "4    Wednesday  February  \n",
       "..         ...       ...  \n",
       "994     Monday     March  \n",
       "995   Saturday   January  \n",
       "996    Tuesday     March  \n",
       "997   Saturday   January  \n",
       "998    Tuesday     March  \n",
       "\n",
       "[999 rows x 20 columns]"
      ]
     },
     "execution_count": 39,
     "metadata": {},
     "output_type": "execute_result"
    }
   ],
   "source": [
    "pd.read_sql_query(\"SELECT * FROM sales\",conn)"
   ]
  },
  {
   "cell_type": "markdown",
   "id": "7f292810",
   "metadata": {},
   "source": [
    "# Summary of Data"
   ]
  },
  {
   "cell_type": "markdown",
   "id": "7ed13cc4",
   "metadata": {},
   "source": [
    "# About Data\n",
    "- The dataset was obtained from the Kaggle Walmart Sales Forecasting Competition. This dataset contains sales transactions from a three different branches of Walmart, respectively located in Mandalay, Yangon and Naypyitaw. The data contains 17 columns and 1000 rows:"
   ]
  },
  {
   "cell_type": "markdown",
   "id": "502f19c3",
   "metadata": {},
   "source": [
    "Summary categorized data set into Product Information, Sales Information, and Customer Information:\n",
    "\n",
    "1. **Product Information:**\n",
    "   - Product_Line: Line of the product sold.\n",
    "   - Unit_Price: Price of each product.\n",
    "   - Quantity: Amount of the product sold.\n",
    "   - VAT: Amount of tax on the purchase.\n",
    "   - COGS (Cost Of Goods Sold): Cost of goods sold.\n",
    "   - Gross_Margin_Percentage: Gross margin percentage.\n",
    "\n",
    "2. **Sales Information:**\n",
    "   - Invoice_ID: Unique identifier for each sales transaction.\n",
    "   - Branch: Branch at which sales were made (Mandalay, Yangon, Naypyitaw).\n",
    "   - City: Location of the branch.\n",
    "   - Date: Date on which the purchase was made.\n",
    "   - Time: Time at which the purchase was made.\n",
    "   - Payment_Method: Method of payment used.\n",
    "   - Total: Total cost of the purchase.\n",
    "   - Gross_Income: Gross income generated from the sale.\n",
    "   - Rating: Rating associated with the purchase experience.\n",
    "\n",
    "3. **Customer Information:**\n",
    "   - Customer_Type: Type of the customer (e.g., Member, Normal).\n",
    "   - Gender: Gender of the customer making the purchase.\n",
    "   - Marital_Status: Marital status of the customer."
   ]
  },
  {
   "cell_type": "markdown",
   "id": "639ca599",
   "metadata": {},
   "source": [
    "# Column Description\n",
    "\n",
    "1. **Invoice_ID**: Unique identifier assigned to each sales transaction. There are 1000 unique invoices.\n",
    "\n",
    "2. **Branch**: Branch at which sales were made, categorized as 'Mandalay', 'Yangon', or 'Naypyitaw'.\n",
    "\n",
    "3. **City**: Location of the branch.\n",
    "\n",
    "4. **Customer_Type**: Type of the customer, indicating whether they are a member or a normal customer.\n",
    "\n",
    "5. **Gender**: Gender of the customer making the purchase, categorized as 'Male', 'Female', or other.\n",
    "\n",
    "6. **Product_Line**: Product line of the product sold.\n",
    "\n",
    "7. **Unit_Price**: Price of each product.\n",
    "\n",
    "8. **Quantity**: Amount of the product sold.\n",
    "\n",
    "9. **VAT**: Amount of tax on the purchase.\n",
    "\n",
    "10. **Total**: Total cost of the purchase.\n",
    "\n",
    "11. **Date**: Date on which the purchase was made.\n",
    "\n",
    "12. **Time**: Time at which the purchase was made.\n",
    "\n",
    "13. **Payment_Method**: Method of payment used for the transaction.\n",
    "\n",
    "14. **COGS (Cost Of Goods Sold)**: Cost of goods sold.\n",
    "\n",
    "15. **Gross_Margin_Percentage**: Gross margin percentage.\n",
    "\n",
    "16. **Gross_Income**: Gross income generated from the sale.\n",
    "\n",
    "17. **Rating**: Rating associated with the purchase experience."
   ]
  },
  {
   "cell_type": "markdown",
   "id": "8aadb89b",
   "metadata": {},
   "source": [
    "# Issues with Dataset\n",
    "\n",
    "### 1. There are no issues with the dataset because all values come directly from the database, and there are no missing values either.\n",
    "### 2. No need of Data Cleaning "
   ]
  },
  {
   "cell_type": "markdown",
   "id": "b42bb46f",
   "metadata": {},
   "source": [
    "# 2.3 Feature Engineering\n",
    "- Add a new column named time_of_day to give insight of sales in the Morning, Afternoon and Evening. This will help answer the question on which part of the day most sales are made.\n",
    "- Add a new column named day that contains the extracted days of the week on which the given transaction took place (Mon, Tue, Wed, Thur, Fri). This will help answer the question on which week of the day each branch is busiest.\n",
    "- Add a new column named MonthName that contains the extracted months of the year on which the given transaction took place (Jan, Feb, Mar). Help determine which month of the year has the most sales and profit."
   ]
  },
  {
   "cell_type": "code",
   "execution_count": null,
   "id": "5607fd18",
   "metadata": {},
   "outputs": [],
   "source": [
    "cursor = conn.cursor()\n",
    "\n",
    "# Execute the ALTER TABLE statement\n",
    "cursor.execute(\"\"\"\n",
    "    ALTER TABLE sales\n",
    "ADD COLUMN time_of_day VARCHAR(20);\n",
    "\"\"\")\n",
    "\n",
    "# Commit the transaction\n",
    "conn.commit()\n",
    "\n",
    "# Close the cursor and the connection\n",
    "cursor.close()"
   ]
  },
  {
   "cell_type": "code",
   "execution_count": null,
   "id": "e8bd5507",
   "metadata": {},
   "outputs": [],
   "source": [
    "cursor = conn.cursor()\n",
    "\n",
    "# Execute the ALTER TABLE statement\n",
    "cursor.execute(\"\"\"\n",
    "    UPDATE sales\n",
    "SET time_of_day = CASE \n",
    "                        WHEN time BETWEEN '00:00:00' AND '12:00:00' THEN 'Morning'\n",
    "                        WHEN time BETWEEN '12:00:01' AND '17:00:00' THEN 'Afternoon'\n",
    "                        ELSE 'Evening'\n",
    "                  END;\n",
    "\"\"\")\n",
    "\n",
    "# Commit the transaction\n",
    "conn.commit()\n",
    "\n",
    "# Close the cursor and the connection\n",
    "cursor.close()"
   ]
  },
  {
   "cell_type": "code",
   "execution_count": null,
   "id": "bbdbd0c6",
   "metadata": {},
   "outputs": [],
   "source": [
    "cursor = conn.cursor()\n",
    "\n",
    "# Execute the ALTER TABLE statement\n",
    "cursor.execute(\"\"\"\n",
    "    ALTER TABLE sales\n",
    "ADD COLUMN day VARCHAR(20);\n",
    "\"\"\")\n",
    "\n",
    "# Commit the transaction\n",
    "conn.commit()\n",
    "\n",
    "# Close the cursor and the connection\n",
    "cursor.close()"
   ]
  },
  {
   "cell_type": "code",
   "execution_count": null,
   "id": "b0c0bf27",
   "metadata": {},
   "outputs": [],
   "source": [
    "cursor = conn.cursor()\n",
    "\n",
    "# Execute the ALTER TABLE statement\n",
    "cursor.execute(\"\"\"\n",
    "    UPDATE sales\n",
    "        SET day = DAYNAME(date)\n",
    "\"\"\")\n",
    "\n",
    "# Commit the transaction\n",
    "conn.commit()\n",
    "\n",
    "# Close the cursor and the connection\n",
    "cursor.close()"
   ]
  },
  {
   "cell_type": "code",
   "execution_count": null,
   "id": "96b7ed00",
   "metadata": {},
   "outputs": [],
   "source": [
    "cursor = conn.cursor()\n",
    "\n",
    "# Execute the ALTER TABLE statement\n",
    "cursor.execute(\"\"\"\n",
    "    ALTER TABLE sales\n",
    "        ADD COLUMN MonthName VARCHAR(20);\n",
    "\"\"\")\n",
    "\n",
    "# Commit the transaction\n",
    "conn.commit()\n",
    "\n",
    "# Close the cursor and the connection\n",
    "cursor.close()"
   ]
  },
  {
   "cell_type": "code",
   "execution_count": null,
   "id": "eb1074eb",
   "metadata": {},
   "outputs": [],
   "source": [
    "cursor = conn.cursor()\n",
    "\n",
    "# Execute the ALTER TABLE statement\n",
    "cursor.execute(\"\"\"\n",
    "    UPDATE sales\n",
    "        SET MonthName = MONTHNAME(date)\n",
    "\"\"\")\n",
    "\n",
    "# Commit the transaction\n",
    "conn.commit()\n",
    "\n",
    "# Close the cursor and the connection\n",
    "cursor.close()"
   ]
  },
  {
   "cell_type": "markdown",
   "id": "391954c5",
   "metadata": {},
   "source": [
    "# 3. Exploratory Data Analysis (EDA): Exploratory data analysis is done to answer the listed questions and aims of this project."
   ]
  },
  {
   "cell_type": "markdown",
   "id": "9c093a14",
   "metadata": {},
   "source": [
    "# Business Questions To Answer"
   ]
  },
  {
   "cell_type": "markdown",
   "id": "83f5524b",
   "metadata": {},
   "source": [
    "## Generic Question\n",
    "Q1. How many unique cities does the data have?\n"
   ]
  },
  {
   "cell_type": "code",
   "execution_count": 55,
   "id": "1a817535",
   "metadata": {},
   "outputs": [
    {
     "name": "stderr",
     "output_type": "stream",
     "text": [
      "C:\\Users\\asus\\AppData\\Local\\Temp\\ipykernel_31468\\557403998.py:1: UserWarning: pandas only supports SQLAlchemy connectable (engine/connection) or database string URI or sqlite3 DBAPI2 connection. Other DBAPI2 objects are not tested. Please consider using SQLAlchemy.\n",
      "  pd.read_sql_query(\"SELECT distinct city AS City FROM sales\",conn)\n"
     ]
    },
    {
     "data": {
      "text/html": [
       "<div>\n",
       "<style scoped>\n",
       "    .dataframe tbody tr th:only-of-type {\n",
       "        vertical-align: middle;\n",
       "    }\n",
       "\n",
       "    .dataframe tbody tr th {\n",
       "        vertical-align: top;\n",
       "    }\n",
       "\n",
       "    .dataframe thead th {\n",
       "        text-align: right;\n",
       "    }\n",
       "</style>\n",
       "<table border=\"1\" class=\"dataframe\">\n",
       "  <thead>\n",
       "    <tr style=\"text-align: right;\">\n",
       "      <th></th>\n",
       "      <th>City</th>\n",
       "    </tr>\n",
       "  </thead>\n",
       "  <tbody>\n",
       "    <tr>\n",
       "      <th>0</th>\n",
       "      <td>Yangon</td>\n",
       "    </tr>\n",
       "    <tr>\n",
       "      <th>1</th>\n",
       "      <td>Naypyitaw</td>\n",
       "    </tr>\n",
       "    <tr>\n",
       "      <th>2</th>\n",
       "      <td>Mandalay</td>\n",
       "    </tr>\n",
       "  </tbody>\n",
       "</table>\n",
       "</div>"
      ],
      "text/plain": [
       "        City\n",
       "0     Yangon\n",
       "1  Naypyitaw\n",
       "2   Mandalay"
      ]
     },
     "execution_count": 55,
     "metadata": {},
     "output_type": "execute_result"
    }
   ],
   "source": [
    "pd.read_sql_query(\"SELECT distinct city AS City FROM sales\",conn)"
   ]
  },
  {
   "cell_type": "markdown",
   "id": "bfca7910",
   "metadata": {},
   "source": [
    "Q2. In which city is each branch?"
   ]
  },
  {
   "cell_type": "code",
   "execution_count": 54,
   "id": "e6c2871a",
   "metadata": {},
   "outputs": [
    {
     "name": "stderr",
     "output_type": "stream",
     "text": [
      "C:\\Users\\asus\\AppData\\Local\\Temp\\ipykernel_31468\\3034155680.py:1: UserWarning: pandas only supports SQLAlchemy connectable (engine/connection) or database string URI or sqlite3 DBAPI2 connection. Other DBAPI2 objects are not tested. Please consider using SQLAlchemy.\n",
      "  pd.read_sql_query(\"SELECT distinct city AS City , branch AS Branch FROM sales\",conn)\n"
     ]
    },
    {
     "data": {
      "text/html": [
       "<div>\n",
       "<style scoped>\n",
       "    .dataframe tbody tr th:only-of-type {\n",
       "        vertical-align: middle;\n",
       "    }\n",
       "\n",
       "    .dataframe tbody tr th {\n",
       "        vertical-align: top;\n",
       "    }\n",
       "\n",
       "    .dataframe thead th {\n",
       "        text-align: right;\n",
       "    }\n",
       "</style>\n",
       "<table border=\"1\" class=\"dataframe\">\n",
       "  <thead>\n",
       "    <tr style=\"text-align: right;\">\n",
       "      <th></th>\n",
       "      <th>City</th>\n",
       "      <th>Branch</th>\n",
       "    </tr>\n",
       "  </thead>\n",
       "  <tbody>\n",
       "    <tr>\n",
       "      <th>0</th>\n",
       "      <td>Yangon</td>\n",
       "      <td>A</td>\n",
       "    </tr>\n",
       "    <tr>\n",
       "      <th>1</th>\n",
       "      <td>Naypyitaw</td>\n",
       "      <td>C</td>\n",
       "    </tr>\n",
       "    <tr>\n",
       "      <th>2</th>\n",
       "      <td>Mandalay</td>\n",
       "      <td>B</td>\n",
       "    </tr>\n",
       "  </tbody>\n",
       "</table>\n",
       "</div>"
      ],
      "text/plain": [
       "        City Branch\n",
       "0     Yangon      A\n",
       "1  Naypyitaw      C\n",
       "2   Mandalay      B"
      ]
     },
     "execution_count": 54,
     "metadata": {},
     "output_type": "execute_result"
    }
   ],
   "source": [
    "pd.read_sql_query(\"SELECT distinct city AS City , branch AS Branch FROM sales\",conn)"
   ]
  },
  {
   "cell_type": "markdown",
   "id": "4f10b7ec",
   "metadata": {},
   "source": [
    "## Product\n",
    "Q1. How many unique product lines does the data have?"
   ]
  },
  {
   "cell_type": "code",
   "execution_count": 53,
   "id": "c358b895",
   "metadata": {},
   "outputs": [
    {
     "name": "stderr",
     "output_type": "stream",
     "text": [
      "C:\\Users\\asus\\AppData\\Local\\Temp\\ipykernel_31468\\3374838802.py:1: UserWarning: pandas only supports SQLAlchemy connectable (engine/connection) or database string URI or sqlite3 DBAPI2 connection. Other DBAPI2 objects are not tested. Please consider using SQLAlchemy.\n",
      "  pd.read_sql_query(\"SELECT distinct product_line AS 'Product Line' FROM sales\",conn)\n"
     ]
    },
    {
     "data": {
      "text/html": [
       "<div>\n",
       "<style scoped>\n",
       "    .dataframe tbody tr th:only-of-type {\n",
       "        vertical-align: middle;\n",
       "    }\n",
       "\n",
       "    .dataframe tbody tr th {\n",
       "        vertical-align: top;\n",
       "    }\n",
       "\n",
       "    .dataframe thead th {\n",
       "        text-align: right;\n",
       "    }\n",
       "</style>\n",
       "<table border=\"1\" class=\"dataframe\">\n",
       "  <thead>\n",
       "    <tr style=\"text-align: right;\">\n",
       "      <th></th>\n",
       "      <th>Product Line</th>\n",
       "    </tr>\n",
       "  </thead>\n",
       "  <tbody>\n",
       "    <tr>\n",
       "      <th>0</th>\n",
       "      <td>Food and beverages</td>\n",
       "    </tr>\n",
       "    <tr>\n",
       "      <th>1</th>\n",
       "      <td>Health and beauty</td>\n",
       "    </tr>\n",
       "    <tr>\n",
       "      <th>2</th>\n",
       "      <td>Sports and travel</td>\n",
       "    </tr>\n",
       "    <tr>\n",
       "      <th>3</th>\n",
       "      <td>Fashion accessories</td>\n",
       "    </tr>\n",
       "    <tr>\n",
       "      <th>4</th>\n",
       "      <td>Home and lifestyle</td>\n",
       "    </tr>\n",
       "    <tr>\n",
       "      <th>5</th>\n",
       "      <td>Electronic accessories</td>\n",
       "    </tr>\n",
       "  </tbody>\n",
       "</table>\n",
       "</div>"
      ],
      "text/plain": [
       "             Product Line\n",
       "0      Food and beverages\n",
       "1       Health and beauty\n",
       "2       Sports and travel\n",
       "3     Fashion accessories\n",
       "4      Home and lifestyle\n",
       "5  Electronic accessories"
      ]
     },
     "execution_count": 53,
     "metadata": {},
     "output_type": "execute_result"
    }
   ],
   "source": [
    "pd.read_sql_query(\"SELECT distinct product_line AS 'Product Line' FROM sales\",conn)"
   ]
  },
  {
   "cell_type": "markdown",
   "id": "70404c39",
   "metadata": {},
   "source": [
    "Q2. What is the most common payment method?"
   ]
  },
  {
   "cell_type": "code",
   "execution_count": 52,
   "id": "bc8bb40f",
   "metadata": {},
   "outputs": [
    {
     "name": "stderr",
     "output_type": "stream",
     "text": [
      "C:\\Users\\asus\\AppData\\Local\\Temp\\ipykernel_31468\\160447823.py:1: UserWarning: pandas only supports SQLAlchemy connectable (engine/connection) or database string URI or sqlite3 DBAPI2 connection. Other DBAPI2 objects are not tested. Please consider using SQLAlchemy.\n",
      "  pd.read_sql_query(\"SELECT payment AS 'Payment Method' FROM sales group by(payment) order by count(payment) Desc limit 1\",conn)\n"
     ]
    },
    {
     "data": {
      "text/html": [
       "<div>\n",
       "<style scoped>\n",
       "    .dataframe tbody tr th:only-of-type {\n",
       "        vertical-align: middle;\n",
       "    }\n",
       "\n",
       "    .dataframe tbody tr th {\n",
       "        vertical-align: top;\n",
       "    }\n",
       "\n",
       "    .dataframe thead th {\n",
       "        text-align: right;\n",
       "    }\n",
       "</style>\n",
       "<table border=\"1\" class=\"dataframe\">\n",
       "  <thead>\n",
       "    <tr style=\"text-align: right;\">\n",
       "      <th></th>\n",
       "      <th>Payment Method</th>\n",
       "    </tr>\n",
       "  </thead>\n",
       "  <tbody>\n",
       "    <tr>\n",
       "      <th>0</th>\n",
       "      <td>Ewallet</td>\n",
       "    </tr>\n",
       "  </tbody>\n",
       "</table>\n",
       "</div>"
      ],
      "text/plain": [
       "  Payment Method\n",
       "0        Ewallet"
      ]
     },
     "execution_count": 52,
     "metadata": {},
     "output_type": "execute_result"
    }
   ],
   "source": [
    "pd.read_sql_query(\"SELECT payment AS 'Payment Method' FROM sales group by(payment) order by count(payment) Desc limit 1\",conn)"
   ]
  },
  {
   "cell_type": "markdown",
   "id": "7d8c76c4",
   "metadata": {},
   "source": [
    "Q3. What is the most selling product line?"
   ]
  },
  {
   "cell_type": "code",
   "execution_count": 51,
   "id": "bdcc075b",
   "metadata": {},
   "outputs": [
    {
     "name": "stderr",
     "output_type": "stream",
     "text": [
      "C:\\Users\\asus\\AppData\\Local\\Temp\\ipykernel_31468\\2715238353.py:1: UserWarning: pandas only supports SQLAlchemy connectable (engine/connection) or database string URI or sqlite3 DBAPI2 connection. Other DBAPI2 objects are not tested. Please consider using SQLAlchemy.\n",
      "  pd.read_sql_query(\"SELECT product_line AS 'Product Line' FROM sales group by(product_line) order by count(product_line) Desc limit 1\",conn)\n"
     ]
    },
    {
     "data": {
      "text/html": [
       "<div>\n",
       "<style scoped>\n",
       "    .dataframe tbody tr th:only-of-type {\n",
       "        vertical-align: middle;\n",
       "    }\n",
       "\n",
       "    .dataframe tbody tr th {\n",
       "        vertical-align: top;\n",
       "    }\n",
       "\n",
       "    .dataframe thead th {\n",
       "        text-align: right;\n",
       "    }\n",
       "</style>\n",
       "<table border=\"1\" class=\"dataframe\">\n",
       "  <thead>\n",
       "    <tr style=\"text-align: right;\">\n",
       "      <th></th>\n",
       "      <th>Product Line</th>\n",
       "    </tr>\n",
       "  </thead>\n",
       "  <tbody>\n",
       "    <tr>\n",
       "      <th>0</th>\n",
       "      <td>Fashion accessories</td>\n",
       "    </tr>\n",
       "  </tbody>\n",
       "</table>\n",
       "</div>"
      ],
      "text/plain": [
       "          Product Line\n",
       "0  Fashion accessories"
      ]
     },
     "execution_count": 51,
     "metadata": {},
     "output_type": "execute_result"
    }
   ],
   "source": [
    "pd.read_sql_query(\"SELECT product_line AS 'Product Line' FROM sales group by(product_line) order by count(product_line) Desc limit 1\",conn)"
   ]
  },
  {
   "cell_type": "markdown",
   "id": "c12f0fdf",
   "metadata": {},
   "source": [
    "Q4. What is the total revenue by month?"
   ]
  },
  {
   "cell_type": "code",
   "execution_count": 49,
   "id": "302207cf",
   "metadata": {},
   "outputs": [
    {
     "name": "stderr",
     "output_type": "stream",
     "text": [
      "C:\\Users\\asus\\AppData\\Local\\Temp\\ipykernel_31468\\3364276636.py:1: UserWarning: pandas only supports SQLAlchemy connectable (engine/connection) or database string URI or sqlite3 DBAPI2 connection. Other DBAPI2 objects are not tested. Please consider using SQLAlchemy.\n",
      "  pd.read_sql_query(\"SELECT MonthName AS 'Month Name', sum(total) AS 'Total Revenue' FROM sales group by(MonthName) order by sum(total) Desc\",conn)\n"
     ]
    },
    {
     "data": {
      "text/html": [
       "<div>\n",
       "<style scoped>\n",
       "    .dataframe tbody tr th:only-of-type {\n",
       "        vertical-align: middle;\n",
       "    }\n",
       "\n",
       "    .dataframe tbody tr th {\n",
       "        vertical-align: top;\n",
       "    }\n",
       "\n",
       "    .dataframe thead th {\n",
       "        text-align: right;\n",
       "    }\n",
       "</style>\n",
       "<table border=\"1\" class=\"dataframe\">\n",
       "  <thead>\n",
       "    <tr style=\"text-align: right;\">\n",
       "      <th></th>\n",
       "      <th>Month Name</th>\n",
       "      <th>Total Revenue</th>\n",
       "    </tr>\n",
       "  </thead>\n",
       "  <tbody>\n",
       "    <tr>\n",
       "      <th>0</th>\n",
       "      <td>January</td>\n",
       "      <td>116291.8680</td>\n",
       "    </tr>\n",
       "    <tr>\n",
       "      <th>1</th>\n",
       "      <td>March</td>\n",
       "      <td>109455.5070</td>\n",
       "    </tr>\n",
       "    <tr>\n",
       "      <th>2</th>\n",
       "      <td>February</td>\n",
       "      <td>96874.3545</td>\n",
       "    </tr>\n",
       "  </tbody>\n",
       "</table>\n",
       "</div>"
      ],
      "text/plain": [
       "  Month Name  Total Revenue\n",
       "0    January    116291.8680\n",
       "1      March    109455.5070\n",
       "2   February     96874.3545"
      ]
     },
     "execution_count": 49,
     "metadata": {},
     "output_type": "execute_result"
    }
   ],
   "source": [
    "pd.read_sql_query(\"SELECT MonthName AS 'Month Name', sum(total) AS 'Total Revenue' FROM sales group by(MonthName) order by sum(total) Desc\",conn)"
   ]
  },
  {
   "cell_type": "markdown",
   "id": "9e74ecea",
   "metadata": {},
   "source": [
    "Q5. What month had the largest COGS?"
   ]
  },
  {
   "cell_type": "code",
   "execution_count": 50,
   "id": "cbc5f215",
   "metadata": {},
   "outputs": [
    {
     "name": "stderr",
     "output_type": "stream",
     "text": [
      "C:\\Users\\asus\\AppData\\Local\\Temp\\ipykernel_31468\\513184937.py:1: UserWarning: pandas only supports SQLAlchemy connectable (engine/connection) or database string URI or sqlite3 DBAPI2 connection. Other DBAPI2 objects are not tested. Please consider using SQLAlchemy.\n",
      "  pd.read_sql_query(\"SELECT MonthName AS 'Month Name', sum(cogs) AS 'Total Cogs' FROM sales group by(MonthName) order by sum(cogs) Desc limit 1\",conn)\n"
     ]
    },
    {
     "data": {
      "text/html": [
       "<div>\n",
       "<style scoped>\n",
       "    .dataframe tbody tr th:only-of-type {\n",
       "        vertical-align: middle;\n",
       "    }\n",
       "\n",
       "    .dataframe tbody tr th {\n",
       "        vertical-align: top;\n",
       "    }\n",
       "\n",
       "    .dataframe thead th {\n",
       "        text-align: right;\n",
       "    }\n",
       "</style>\n",
       "<table border=\"1\" class=\"dataframe\">\n",
       "  <thead>\n",
       "    <tr style=\"text-align: right;\">\n",
       "      <th></th>\n",
       "      <th>Month Name</th>\n",
       "      <th>Total Cogs</th>\n",
       "    </tr>\n",
       "  </thead>\n",
       "  <tbody>\n",
       "    <tr>\n",
       "      <th>0</th>\n",
       "      <td>January</td>\n",
       "      <td>110754.16</td>\n",
       "    </tr>\n",
       "  </tbody>\n",
       "</table>\n",
       "</div>"
      ],
      "text/plain": [
       "  Month Name  Total Cogs\n",
       "0    January   110754.16"
      ]
     },
     "execution_count": 50,
     "metadata": {},
     "output_type": "execute_result"
    }
   ],
   "source": [
    "pd.read_sql_query(\"SELECT MonthName AS 'Month Name', sum(cogs) AS 'Total Cogs' FROM sales group by(MonthName) order by sum(cogs) Desc limit 1\",conn)"
   ]
  },
  {
   "cell_type": "markdown",
   "id": "41e001ce",
   "metadata": {},
   "source": [
    " Q6. What product line had the largest revenue?"
   ]
  },
  {
   "cell_type": "code",
   "execution_count": 47,
   "id": "231c5072",
   "metadata": {},
   "outputs": [
    {
     "name": "stderr",
     "output_type": "stream",
     "text": [
      "C:\\Users\\asus\\AppData\\Local\\Temp\\ipykernel_31468\\3184582760.py:1: UserWarning: pandas only supports SQLAlchemy connectable (engine/connection) or database string URI or sqlite3 DBAPI2 connection. Other DBAPI2 objects are not tested. Please consider using SQLAlchemy.\n",
      "  pd.read_sql_query(\"SELECT product_line AS 'Product Line', sum(total) AS 'Total Revenue' FROM sales group by(MonthName) order by sum(total) Desc limit 1\",conn)\n"
     ]
    },
    {
     "data": {
      "text/html": [
       "<div>\n",
       "<style scoped>\n",
       "    .dataframe tbody tr th:only-of-type {\n",
       "        vertical-align: middle;\n",
       "    }\n",
       "\n",
       "    .dataframe tbody tr th {\n",
       "        vertical-align: top;\n",
       "    }\n",
       "\n",
       "    .dataframe thead th {\n",
       "        text-align: right;\n",
       "    }\n",
       "</style>\n",
       "<table border=\"1\" class=\"dataframe\">\n",
       "  <thead>\n",
       "    <tr style=\"text-align: right;\">\n",
       "      <th></th>\n",
       "      <th>Product Line</th>\n",
       "      <th>Total Revenue</th>\n",
       "    </tr>\n",
       "  </thead>\n",
       "  <tbody>\n",
       "    <tr>\n",
       "      <th>0</th>\n",
       "      <td>Health and beauty</td>\n",
       "      <td>116291.868</td>\n",
       "    </tr>\n",
       "  </tbody>\n",
       "</table>\n",
       "</div>"
      ],
      "text/plain": [
       "        Product Line  Total Revenue\n",
       "0  Health and beauty     116291.868"
      ]
     },
     "execution_count": 47,
     "metadata": {},
     "output_type": "execute_result"
    }
   ],
   "source": [
    "pd.read_sql_query(\"SELECT product_line AS 'Product Line', sum(total) AS 'Total Revenue' FROM sales group by(MonthName) order by sum(total) Desc limit 1\",conn)"
   ]
  },
  {
   "cell_type": "markdown",
   "id": "9b281287",
   "metadata": {},
   "source": [
    "Q7. What is the city with the largest revenue?"
   ]
  },
  {
   "cell_type": "code",
   "execution_count": 56,
   "id": "ed248bd6",
   "metadata": {},
   "outputs": [
    {
     "name": "stderr",
     "output_type": "stream",
     "text": [
      "C:\\Users\\asus\\AppData\\Local\\Temp\\ipykernel_31468\\681619256.py:1: UserWarning: pandas only supports SQLAlchemy connectable (engine/connection) or database string URI or sqlite3 DBAPI2 connection. Other DBAPI2 objects are not tested. Please consider using SQLAlchemy.\n",
      "  pd.read_sql_query(\"SELECT city AS City, sum(total) AS 'Total Revenue' FROM sales group by(city) order by sum(total) Desc limit 1\",conn)\n"
     ]
    },
    {
     "data": {
      "text/html": [
       "<div>\n",
       "<style scoped>\n",
       "    .dataframe tbody tr th:only-of-type {\n",
       "        vertical-align: middle;\n",
       "    }\n",
       "\n",
       "    .dataframe tbody tr th {\n",
       "        vertical-align: top;\n",
       "    }\n",
       "\n",
       "    .dataframe thead th {\n",
       "        text-align: right;\n",
       "    }\n",
       "</style>\n",
       "<table border=\"1\" class=\"dataframe\">\n",
       "  <thead>\n",
       "    <tr style=\"text-align: right;\">\n",
       "      <th></th>\n",
       "      <th>City</th>\n",
       "      <th>Total Revenue</th>\n",
       "    </tr>\n",
       "  </thead>\n",
       "  <tbody>\n",
       "    <tr>\n",
       "      <th>0</th>\n",
       "      <td>Naypyitaw</td>\n",
       "      <td>110568.7065</td>\n",
       "    </tr>\n",
       "  </tbody>\n",
       "</table>\n",
       "</div>"
      ],
      "text/plain": [
       "        City  Total Revenue\n",
       "0  Naypyitaw    110568.7065"
      ]
     },
     "execution_count": 56,
     "metadata": {},
     "output_type": "execute_result"
    }
   ],
   "source": [
    "pd.read_sql_query(\"SELECT city AS City, sum(total) AS 'Total Revenue' FROM sales group by(city) order by sum(total) Desc limit 1\",conn)"
   ]
  },
  {
   "cell_type": "markdown",
   "id": "718912b3",
   "metadata": {},
   "source": [
    "Q8. What product line had the largest VAT?"
   ]
  },
  {
   "cell_type": "code",
   "execution_count": 58,
   "id": "ded6c461",
   "metadata": {},
   "outputs": [
    {
     "name": "stderr",
     "output_type": "stream",
     "text": [
      "C:\\Users\\asus\\AppData\\Local\\Temp\\ipykernel_31468\\3615065541.py:1: UserWarning: pandas only supports SQLAlchemy connectable (engine/connection) or database string URI or sqlite3 DBAPI2 connection. Other DBAPI2 objects are not tested. Please consider using SQLAlchemy.\n",
      "  pd.read_sql_query(\"SELECT product_line AS 'Product Line', sum(tax_pct) AS 'Total VAT' FROM sales group by(product_line) order by sum(tax_pct) Desc limit 1\",conn)\n"
     ]
    },
    {
     "data": {
      "text/html": [
       "<div>\n",
       "<style scoped>\n",
       "    .dataframe tbody tr th:only-of-type {\n",
       "        vertical-align: middle;\n",
       "    }\n",
       "\n",
       "    .dataframe tbody tr th {\n",
       "        vertical-align: top;\n",
       "    }\n",
       "\n",
       "    .dataframe thead th {\n",
       "        text-align: right;\n",
       "    }\n",
       "</style>\n",
       "<table border=\"1\" class=\"dataframe\">\n",
       "  <thead>\n",
       "    <tr style=\"text-align: right;\">\n",
       "      <th></th>\n",
       "      <th>Product Line</th>\n",
       "      <th>Total VAT</th>\n",
       "    </tr>\n",
       "  </thead>\n",
       "  <tbody>\n",
       "    <tr>\n",
       "      <th>0</th>\n",
       "      <td>Food and beverages</td>\n",
       "      <td>2673.564</td>\n",
       "    </tr>\n",
       "  </tbody>\n",
       "</table>\n",
       "</div>"
      ],
      "text/plain": [
       "         Product Line  Total VAT\n",
       "0  Food and beverages   2673.564"
      ]
     },
     "execution_count": 58,
     "metadata": {},
     "output_type": "execute_result"
    }
   ],
   "source": [
    "pd.read_sql_query(\"SELECT product_line AS 'Product Line', sum(tax_pct) AS 'Total VAT' FROM sales group by(product_line) order by sum(tax_pct) Desc limit 1\",conn)"
   ]
  },
  {
   "cell_type": "markdown",
   "id": "c8d6963e",
   "metadata": {},
   "source": [
    "Q9. Which branch sold more products than average product sold?"
   ]
  },
  {
   "cell_type": "code",
   "execution_count": 60,
   "id": "382501f3",
   "metadata": {},
   "outputs": [
    {
     "name": "stderr",
     "output_type": "stream",
     "text": [
      "C:\\Users\\asus\\AppData\\Local\\Temp\\ipykernel_31468\\2906046489.py:1: UserWarning: pandas only supports SQLAlchemy connectable (engine/connection) or database string URI or sqlite3 DBAPI2 connection. Other DBAPI2 objects are not tested. Please consider using SQLAlchemy.\n",
      "  pd.read_sql_query(\"SELECT branch AS Branch, sum(quantity) AS 'Total Quantity' FROM sales group by(branch) having sum(quantity) > (SELECT avg(quantity) FROM sales)\",conn)\n"
     ]
    },
    {
     "data": {
      "text/html": [
       "<div>\n",
       "<style scoped>\n",
       "    .dataframe tbody tr th:only-of-type {\n",
       "        vertical-align: middle;\n",
       "    }\n",
       "\n",
       "    .dataframe tbody tr th {\n",
       "        vertical-align: top;\n",
       "    }\n",
       "\n",
       "    .dataframe thead th {\n",
       "        text-align: right;\n",
       "    }\n",
       "</style>\n",
       "<table border=\"1\" class=\"dataframe\">\n",
       "  <thead>\n",
       "    <tr style=\"text-align: right;\">\n",
       "      <th></th>\n",
       "      <th>Branch</th>\n",
       "      <th>Total Quantity</th>\n",
       "    </tr>\n",
       "  </thead>\n",
       "  <tbody>\n",
       "    <tr>\n",
       "      <th>0</th>\n",
       "      <td>A</td>\n",
       "      <td>1859.0</td>\n",
       "    </tr>\n",
       "    <tr>\n",
       "      <th>1</th>\n",
       "      <td>B</td>\n",
       "      <td>1811.0</td>\n",
       "    </tr>\n",
       "    <tr>\n",
       "      <th>2</th>\n",
       "      <td>C</td>\n",
       "      <td>1831.0</td>\n",
       "    </tr>\n",
       "  </tbody>\n",
       "</table>\n",
       "</div>"
      ],
      "text/plain": [
       "  Branch  Total Quantity\n",
       "0      A          1859.0\n",
       "1      B          1811.0\n",
       "2      C          1831.0"
      ]
     },
     "execution_count": 60,
     "metadata": {},
     "output_type": "execute_result"
    }
   ],
   "source": [
    "pd.read_sql_query(\"SELECT branch AS Branch, sum(quantity) AS 'Total Quantity' FROM sales group by(branch) having sum(quantity) > (SELECT avg(quantity) FROM sales)\",conn)"
   ]
  },
  {
   "cell_type": "markdown",
   "id": "3075f3af",
   "metadata": {},
   "source": [
    "Q10. What is the most common product line by gender?"
   ]
  },
  {
   "cell_type": "code",
   "execution_count": 65,
   "id": "b552ada4",
   "metadata": {},
   "outputs": [
    {
     "name": "stderr",
     "output_type": "stream",
     "text": [
      "C:\\Users\\asus\\AppData\\Local\\Temp\\ipykernel_31468\\1210337598.py:1: UserWarning: pandas only supports SQLAlchemy connectable (engine/connection) or database string URI or sqlite3 DBAPI2 connection. Other DBAPI2 objects are not tested. Please consider using SQLAlchemy.\n",
      "  pd.read_sql_query(\"SELECT gender AS Gender, product_line AS 'Product Line', count(gender) AS Gender_Count FROM sales group by gender, product_line order by Gender_Count Desc\",conn)\n"
     ]
    },
    {
     "data": {
      "text/html": [
       "<div>\n",
       "<style scoped>\n",
       "    .dataframe tbody tr th:only-of-type {\n",
       "        vertical-align: middle;\n",
       "    }\n",
       "\n",
       "    .dataframe tbody tr th {\n",
       "        vertical-align: top;\n",
       "    }\n",
       "\n",
       "    .dataframe thead th {\n",
       "        text-align: right;\n",
       "    }\n",
       "</style>\n",
       "<table border=\"1\" class=\"dataframe\">\n",
       "  <thead>\n",
       "    <tr style=\"text-align: right;\">\n",
       "      <th></th>\n",
       "      <th>Gender</th>\n",
       "      <th>Product Line</th>\n",
       "      <th>Gender_Count</th>\n",
       "    </tr>\n",
       "  </thead>\n",
       "  <tbody>\n",
       "    <tr>\n",
       "      <th>0</th>\n",
       "      <td>Female</td>\n",
       "      <td>Fashion accessories</td>\n",
       "      <td>95</td>\n",
       "    </tr>\n",
       "    <tr>\n",
       "      <th>1</th>\n",
       "      <td>Female</td>\n",
       "      <td>Food and beverages</td>\n",
       "      <td>90</td>\n",
       "    </tr>\n",
       "    <tr>\n",
       "      <th>2</th>\n",
       "      <td>Male</td>\n",
       "      <td>Health and beauty</td>\n",
       "      <td>88</td>\n",
       "    </tr>\n",
       "    <tr>\n",
       "      <th>3</th>\n",
       "      <td>Female</td>\n",
       "      <td>Sports and travel</td>\n",
       "      <td>88</td>\n",
       "    </tr>\n",
       "    <tr>\n",
       "      <th>4</th>\n",
       "      <td>Male</td>\n",
       "      <td>Electronic accessories</td>\n",
       "      <td>86</td>\n",
       "    </tr>\n",
       "    <tr>\n",
       "      <th>5</th>\n",
       "      <td>Male</td>\n",
       "      <td>Food and beverages</td>\n",
       "      <td>84</td>\n",
       "    </tr>\n",
       "    <tr>\n",
       "      <th>6</th>\n",
       "      <td>Female</td>\n",
       "      <td>Electronic accessories</td>\n",
       "      <td>84</td>\n",
       "    </tr>\n",
       "    <tr>\n",
       "      <th>7</th>\n",
       "      <td>Male</td>\n",
       "      <td>Fashion accessories</td>\n",
       "      <td>82</td>\n",
       "    </tr>\n",
       "    <tr>\n",
       "      <th>8</th>\n",
       "      <td>Male</td>\n",
       "      <td>Home and lifestyle</td>\n",
       "      <td>81</td>\n",
       "    </tr>\n",
       "    <tr>\n",
       "      <th>9</th>\n",
       "      <td>Female</td>\n",
       "      <td>Home and lifestyle</td>\n",
       "      <td>79</td>\n",
       "    </tr>\n",
       "    <tr>\n",
       "      <th>10</th>\n",
       "      <td>Male</td>\n",
       "      <td>Sports and travel</td>\n",
       "      <td>78</td>\n",
       "    </tr>\n",
       "    <tr>\n",
       "      <th>11</th>\n",
       "      <td>Female</td>\n",
       "      <td>Health and beauty</td>\n",
       "      <td>64</td>\n",
       "    </tr>\n",
       "  </tbody>\n",
       "</table>\n",
       "</div>"
      ],
      "text/plain": [
       "    Gender            Product Line  Gender_Count\n",
       "0   Female     Fashion accessories            95\n",
       "1   Female      Food and beverages            90\n",
       "2     Male       Health and beauty            88\n",
       "3   Female       Sports and travel            88\n",
       "4     Male  Electronic accessories            86\n",
       "5     Male      Food and beverages            84\n",
       "6   Female  Electronic accessories            84\n",
       "7     Male     Fashion accessories            82\n",
       "8     Male      Home and lifestyle            81\n",
       "9   Female      Home and lifestyle            79\n",
       "10    Male       Sports and travel            78\n",
       "11  Female       Health and beauty            64"
      ]
     },
     "execution_count": 65,
     "metadata": {},
     "output_type": "execute_result"
    }
   ],
   "source": [
    "pd.read_sql_query(\"SELECT gender AS Gender, product_line AS 'Product Line', count(gender) AS Gender_Count FROM sales group by gender, product_line order by Gender_Count Desc\",conn)"
   ]
  },
  {
   "cell_type": "markdown",
   "id": "933b61e0",
   "metadata": {},
   "source": [
    "Q11. What is the average rating of each product line?"
   ]
  },
  {
   "cell_type": "code",
   "execution_count": 67,
   "id": "e82bdd29",
   "metadata": {},
   "outputs": [
    {
     "name": "stderr",
     "output_type": "stream",
     "text": [
      "C:\\Users\\asus\\AppData\\Local\\Temp\\ipykernel_31468\\1846611455.py:1: UserWarning: pandas only supports SQLAlchemy connectable (engine/connection) or database string URI or sqlite3 DBAPI2 connection. Other DBAPI2 objects are not tested. Please consider using SQLAlchemy.\n",
      "  pd.read_sql_query(\"SELECT product_line AS 'Product Line', avg(rating) AS 'Avg. Rating' FROM sales group by product_line\",conn)\n"
     ]
    },
    {
     "data": {
      "text/html": [
       "<div>\n",
       "<style scoped>\n",
       "    .dataframe tbody tr th:only-of-type {\n",
       "        vertical-align: middle;\n",
       "    }\n",
       "\n",
       "    .dataframe tbody tr th {\n",
       "        vertical-align: top;\n",
       "    }\n",
       "\n",
       "    .dataframe thead th {\n",
       "        text-align: right;\n",
       "    }\n",
       "</style>\n",
       "<table border=\"1\" class=\"dataframe\">\n",
       "  <thead>\n",
       "    <tr style=\"text-align: right;\">\n",
       "      <th></th>\n",
       "      <th>Product Line</th>\n",
       "      <th>Avg. Rating</th>\n",
       "    </tr>\n",
       "  </thead>\n",
       "  <tbody>\n",
       "    <tr>\n",
       "      <th>0</th>\n",
       "      <td>Electronic accessories</td>\n",
       "      <td>6.92412</td>\n",
       "    </tr>\n",
       "    <tr>\n",
       "      <th>1</th>\n",
       "      <td>Fashion accessories</td>\n",
       "      <td>7.04520</td>\n",
       "    </tr>\n",
       "    <tr>\n",
       "      <th>2</th>\n",
       "      <td>Food and beverages</td>\n",
       "      <td>7.11322</td>\n",
       "    </tr>\n",
       "    <tr>\n",
       "      <th>3</th>\n",
       "      <td>Health and beauty</td>\n",
       "      <td>7.00263</td>\n",
       "    </tr>\n",
       "    <tr>\n",
       "      <th>4</th>\n",
       "      <td>Home and lifestyle</td>\n",
       "      <td>6.83750</td>\n",
       "    </tr>\n",
       "    <tr>\n",
       "      <th>5</th>\n",
       "      <td>Sports and travel</td>\n",
       "      <td>6.91446</td>\n",
       "    </tr>\n",
       "  </tbody>\n",
       "</table>\n",
       "</div>"
      ],
      "text/plain": [
       "             Product Line  Avg. Rating\n",
       "0  Electronic accessories      6.92412\n",
       "1     Fashion accessories      7.04520\n",
       "2      Food and beverages      7.11322\n",
       "3       Health and beauty      7.00263\n",
       "4      Home and lifestyle      6.83750\n",
       "5       Sports and travel      6.91446"
      ]
     },
     "execution_count": 67,
     "metadata": {},
     "output_type": "execute_result"
    }
   ],
   "source": [
    "pd.read_sql_query(\"SELECT product_line AS 'Product Line', avg(rating) AS 'Avg. Rating' FROM sales group by product_line\",conn)"
   ]
  },
  {
   "cell_type": "markdown",
   "id": "4ea6e3d7",
   "metadata": {},
   "source": [
    "## Sales\n",
    "Q1. Number of sales made in each time of the day per weekday"
   ]
  },
  {
   "cell_type": "code",
   "execution_count": 71,
   "id": "c6b9b857",
   "metadata": {},
   "outputs": [
    {
     "name": "stderr",
     "output_type": "stream",
     "text": [
      "C:\\Users\\asus\\AppData\\Local\\Temp\\ipykernel_31468\\101227209.py:1: UserWarning: pandas only supports SQLAlchemy connectable (engine/connection) or database string URI or sqlite3 DBAPI2 connection. Other DBAPI2 objects are not tested. Please consider using SQLAlchemy.\n",
      "  pd.read_sql_query(\"SELECT time_of_day AS 'Time of Day', day AS 'Weekday', count(*) AS 'Total Sale' FROM sales WHERE day NOT IN ('Sunday','Saturday')  group by time_of_day, day ORDER BY 'Total Sale' DESC\",conn)\n"
     ]
    },
    {
     "data": {
      "text/html": [
       "<div>\n",
       "<style scoped>\n",
       "    .dataframe tbody tr th:only-of-type {\n",
       "        vertical-align: middle;\n",
       "    }\n",
       "\n",
       "    .dataframe tbody tr th {\n",
       "        vertical-align: top;\n",
       "    }\n",
       "\n",
       "    .dataframe thead th {\n",
       "        text-align: right;\n",
       "    }\n",
       "</style>\n",
       "<table border=\"1\" class=\"dataframe\">\n",
       "  <thead>\n",
       "    <tr style=\"text-align: right;\">\n",
       "      <th></th>\n",
       "      <th>Time of Day</th>\n",
       "      <th>Weekday</th>\n",
       "      <th>Total Sale</th>\n",
       "    </tr>\n",
       "  </thead>\n",
       "  <tbody>\n",
       "    <tr>\n",
       "      <th>0</th>\n",
       "      <td>Evening</td>\n",
       "      <td>Wednesday</td>\n",
       "      <td>50</td>\n",
       "    </tr>\n",
       "    <tr>\n",
       "      <th>1</th>\n",
       "      <td>Afternoon</td>\n",
       "      <td>Thursday</td>\n",
       "      <td>61</td>\n",
       "    </tr>\n",
       "    <tr>\n",
       "      <th>2</th>\n",
       "      <td>Evening</td>\n",
       "      <td>Tuesday</td>\n",
       "      <td>60</td>\n",
       "    </tr>\n",
       "    <tr>\n",
       "      <th>3</th>\n",
       "      <td>Afternoon</td>\n",
       "      <td>Wednesday</td>\n",
       "      <td>71</td>\n",
       "    </tr>\n",
       "    <tr>\n",
       "      <th>4</th>\n",
       "      <td>Afternoon</td>\n",
       "      <td>Friday</td>\n",
       "      <td>68</td>\n",
       "    </tr>\n",
       "    <tr>\n",
       "      <th>5</th>\n",
       "      <td>Morning</td>\n",
       "      <td>Wednesday</td>\n",
       "      <td>22</td>\n",
       "    </tr>\n",
       "    <tr>\n",
       "      <th>6</th>\n",
       "      <td>Afternoon</td>\n",
       "      <td>Monday</td>\n",
       "      <td>64</td>\n",
       "    </tr>\n",
       "    <tr>\n",
       "      <th>7</th>\n",
       "      <td>Morning</td>\n",
       "      <td>Thursday</td>\n",
       "      <td>33</td>\n",
       "    </tr>\n",
       "    <tr>\n",
       "      <th>8</th>\n",
       "      <td>Evening</td>\n",
       "      <td>Monday</td>\n",
       "      <td>40</td>\n",
       "    </tr>\n",
       "    <tr>\n",
       "      <th>9</th>\n",
       "      <td>Afternoon</td>\n",
       "      <td>Tuesday</td>\n",
       "      <td>62</td>\n",
       "    </tr>\n",
       "    <tr>\n",
       "      <th>10</th>\n",
       "      <td>Evening</td>\n",
       "      <td>Thursday</td>\n",
       "      <td>44</td>\n",
       "    </tr>\n",
       "    <tr>\n",
       "      <th>11</th>\n",
       "      <td>Morning</td>\n",
       "      <td>Monday</td>\n",
       "      <td>21</td>\n",
       "    </tr>\n",
       "    <tr>\n",
       "      <th>12</th>\n",
       "      <td>Morning</td>\n",
       "      <td>Tuesday</td>\n",
       "      <td>36</td>\n",
       "    </tr>\n",
       "    <tr>\n",
       "      <th>13</th>\n",
       "      <td>Evening</td>\n",
       "      <td>Friday</td>\n",
       "      <td>42</td>\n",
       "    </tr>\n",
       "    <tr>\n",
       "      <th>14</th>\n",
       "      <td>Morning</td>\n",
       "      <td>Friday</td>\n",
       "      <td>29</td>\n",
       "    </tr>\n",
       "  </tbody>\n",
       "</table>\n",
       "</div>"
      ],
      "text/plain": [
       "   Time of Day    Weekday  Total Sale\n",
       "0      Evening  Wednesday          50\n",
       "1    Afternoon   Thursday          61\n",
       "2      Evening    Tuesday          60\n",
       "3    Afternoon  Wednesday          71\n",
       "4    Afternoon     Friday          68\n",
       "5      Morning  Wednesday          22\n",
       "6    Afternoon     Monday          64\n",
       "7      Morning   Thursday          33\n",
       "8      Evening     Monday          40\n",
       "9    Afternoon    Tuesday          62\n",
       "10     Evening   Thursday          44\n",
       "11     Morning     Monday          21\n",
       "12     Morning    Tuesday          36\n",
       "13     Evening     Friday          42\n",
       "14     Morning     Friday          29"
      ]
     },
     "execution_count": 71,
     "metadata": {},
     "output_type": "execute_result"
    }
   ],
   "source": [
    "pd.read_sql_query(\"SELECT time_of_day AS 'Time of Day', day AS 'Weekday', count(*) AS 'Total Sale' FROM sales WHERE day NOT IN ('Sunday','Saturday')  group by time_of_day, day ORDER BY 'Total Sale' DESC\",conn)"
   ]
  },
  {
   "cell_type": "markdown",
   "id": "aa8a9c6d",
   "metadata": {},
   "source": [
    "Q2. Which of the customer types brings the most revenue?"
   ]
  },
  {
   "cell_type": "code",
   "execution_count": 73,
   "id": "a20da30b",
   "metadata": {},
   "outputs": [
    {
     "name": "stderr",
     "output_type": "stream",
     "text": [
      "C:\\Users\\asus\\AppData\\Local\\Temp\\ipykernel_31468\\3857388197.py:1: UserWarning: pandas only supports SQLAlchemy connectable (engine/connection) or database string URI or sqlite3 DBAPI2 connection. Other DBAPI2 objects are not tested. Please consider using SQLAlchemy.\n",
      "  pd.read_sql_query(\"SELECT customer_type AS 'Customer Type', sum(total) AS 'Total Revenue' FROM sales group by customer_type ORDER BY sum(total) DESC\",conn)\n"
     ]
    },
    {
     "data": {
      "text/html": [
       "<div>\n",
       "<style scoped>\n",
       "    .dataframe tbody tr th:only-of-type {\n",
       "        vertical-align: middle;\n",
       "    }\n",
       "\n",
       "    .dataframe tbody tr th {\n",
       "        vertical-align: top;\n",
       "    }\n",
       "\n",
       "    .dataframe thead th {\n",
       "        text-align: right;\n",
       "    }\n",
       "</style>\n",
       "<table border=\"1\" class=\"dataframe\">\n",
       "  <thead>\n",
       "    <tr style=\"text-align: right;\">\n",
       "      <th></th>\n",
       "      <th>Customer Type</th>\n",
       "      <th>Total Revenue</th>\n",
       "    </tr>\n",
       "  </thead>\n",
       "  <tbody>\n",
       "    <tr>\n",
       "      <th>0</th>\n",
       "      <td>Member</td>\n",
       "      <td>164223.4440</td>\n",
       "    </tr>\n",
       "    <tr>\n",
       "      <th>1</th>\n",
       "      <td>Normal</td>\n",
       "      <td>158398.2855</td>\n",
       "    </tr>\n",
       "  </tbody>\n",
       "</table>\n",
       "</div>"
      ],
      "text/plain": [
       "  Customer Type  Total Revenue\n",
       "0        Member    164223.4440\n",
       "1        Normal    158398.2855"
      ]
     },
     "execution_count": 73,
     "metadata": {},
     "output_type": "execute_result"
    }
   ],
   "source": [
    "pd.read_sql_query(\"SELECT customer_type AS 'Customer Type', sum(total) AS 'Total Revenue' FROM sales group by customer_type ORDER BY sum(total) DESC\",conn)"
   ]
  },
  {
   "cell_type": "markdown",
   "id": "94eb2c59",
   "metadata": {},
   "source": [
    "Q3. Which city has the largest tax percent/ VAT (Value Added Tax)?"
   ]
  },
  {
   "cell_type": "code",
   "execution_count": 9,
   "id": "ad60fb01",
   "metadata": {},
   "outputs": [
    {
     "name": "stderr",
     "output_type": "stream",
     "text": [
      "C:\\Users\\asus\\AppData\\Local\\Temp\\ipykernel_66552\\2753312609.py:1: UserWarning: pandas only supports SQLAlchemy connectable (engine/connection) or database string URI or sqlite3 DBAPI2 connection. Other DBAPI2 objects are not tested. Please consider using SQLAlchemy.\n",
      "  pd.read_sql_query(\"SELECT city AS City, sum(tax_pct) AS 'Total VAT' FROM sales group by city ORDER BY sum(tax_pct) DESC limit 1\",conn)\n"
     ]
    },
    {
     "data": {
      "text/html": [
       "<div>\n",
       "<style scoped>\n",
       "    .dataframe tbody tr th:only-of-type {\n",
       "        vertical-align: middle;\n",
       "    }\n",
       "\n",
       "    .dataframe tbody tr th {\n",
       "        vertical-align: top;\n",
       "    }\n",
       "\n",
       "    .dataframe thead th {\n",
       "        text-align: right;\n",
       "    }\n",
       "</style>\n",
       "<table border=\"1\" class=\"dataframe\">\n",
       "  <thead>\n",
       "    <tr style=\"text-align: right;\">\n",
       "      <th></th>\n",
       "      <th>City</th>\n",
       "      <th>Total VAT</th>\n",
       "    </tr>\n",
       "  </thead>\n",
       "  <tbody>\n",
       "    <tr>\n",
       "      <th>0</th>\n",
       "      <td>Naypyitaw</td>\n",
       "      <td>5265.1765</td>\n",
       "    </tr>\n",
       "  </tbody>\n",
       "</table>\n",
       "</div>"
      ],
      "text/plain": [
       "        City  Total VAT\n",
       "0  Naypyitaw  5265.1765"
      ]
     },
     "execution_count": 9,
     "metadata": {},
     "output_type": "execute_result"
    }
   ],
   "source": [
    "pd.read_sql_query(\"SELECT city AS City, sum(tax_pct) AS 'Total VAT' FROM sales group by city ORDER BY sum(tax_pct) DESC limit 1\",conn)"
   ]
  },
  {
   "cell_type": "markdown",
   "id": "21612660",
   "metadata": {},
   "source": [
    "Q4. Which customer type pays the most in VAT?"
   ]
  },
  {
   "cell_type": "code",
   "execution_count": 12,
   "id": "361e70a4",
   "metadata": {},
   "outputs": [
    {
     "name": "stderr",
     "output_type": "stream",
     "text": [
      "C:\\Users\\asus\\AppData\\Local\\Temp\\ipykernel_66552\\2911475123.py:1: UserWarning: pandas only supports SQLAlchemy connectable (engine/connection) or database string URI or sqlite3 DBAPI2 connection. Other DBAPI2 objects are not tested. Please consider using SQLAlchemy.\n",
      "  pd.read_sql_query(\"SELECT customer_type AS 'Customer Type', sum(tax_pct) AS 'Total VAT' FROM sales group by customer_type ORDER BY sum(tax_pct) DESC limit 1\",conn)\n"
     ]
    },
    {
     "data": {
      "text/html": [
       "<div>\n",
       "<style scoped>\n",
       "    .dataframe tbody tr th:only-of-type {\n",
       "        vertical-align: middle;\n",
       "    }\n",
       "\n",
       "    .dataframe tbody tr th {\n",
       "        vertical-align: top;\n",
       "    }\n",
       "\n",
       "    .dataframe thead th {\n",
       "        text-align: right;\n",
       "    }\n",
       "</style>\n",
       "<table border=\"1\" class=\"dataframe\">\n",
       "  <thead>\n",
       "    <tr style=\"text-align: right;\">\n",
       "      <th></th>\n",
       "      <th>Customer Type</th>\n",
       "      <th>Total VAT</th>\n",
       "    </tr>\n",
       "  </thead>\n",
       "  <tbody>\n",
       "    <tr>\n",
       "      <th>0</th>\n",
       "      <td>Member</td>\n",
       "      <td>7820.164</td>\n",
       "    </tr>\n",
       "  </tbody>\n",
       "</table>\n",
       "</div>"
      ],
      "text/plain": [
       "  Customer Type  Total VAT\n",
       "0        Member   7820.164"
      ]
     },
     "execution_count": 12,
     "metadata": {},
     "output_type": "execute_result"
    }
   ],
   "source": [
    "pd.read_sql_query(\"SELECT customer_type AS 'Customer Type', sum(tax_pct) AS 'Total VAT' FROM sales group by customer_type ORDER BY sum(tax_pct) DESC limit 1\",conn)"
   ]
  },
  {
   "cell_type": "markdown",
   "id": "04690390",
   "metadata": {},
   "source": [
    "## Customer\n",
    "Q1. How many unique customer types does the data have?"
   ]
  },
  {
   "cell_type": "code",
   "execution_count": 14,
   "id": "f3a17d30",
   "metadata": {},
   "outputs": [
    {
     "name": "stderr",
     "output_type": "stream",
     "text": [
      "C:\\Users\\asus\\AppData\\Local\\Temp\\ipykernel_66552\\1120407700.py:1: UserWarning: pandas only supports SQLAlchemy connectable (engine/connection) or database string URI or sqlite3 DBAPI2 connection. Other DBAPI2 objects are not tested. Please consider using SQLAlchemy.\n",
      "  pd.read_sql_query(\"SELECT distinct customer_type AS 'Customer Types' FROM sales\",conn)\n"
     ]
    },
    {
     "data": {
      "text/html": [
       "<div>\n",
       "<style scoped>\n",
       "    .dataframe tbody tr th:only-of-type {\n",
       "        vertical-align: middle;\n",
       "    }\n",
       "\n",
       "    .dataframe tbody tr th {\n",
       "        vertical-align: top;\n",
       "    }\n",
       "\n",
       "    .dataframe thead th {\n",
       "        text-align: right;\n",
       "    }\n",
       "</style>\n",
       "<table border=\"1\" class=\"dataframe\">\n",
       "  <thead>\n",
       "    <tr style=\"text-align: right;\">\n",
       "      <th></th>\n",
       "      <th>Customer Types</th>\n",
       "    </tr>\n",
       "  </thead>\n",
       "  <tbody>\n",
       "    <tr>\n",
       "      <th>0</th>\n",
       "      <td>Normal</td>\n",
       "    </tr>\n",
       "    <tr>\n",
       "      <th>1</th>\n",
       "      <td>Member</td>\n",
       "    </tr>\n",
       "  </tbody>\n",
       "</table>\n",
       "</div>"
      ],
      "text/plain": [
       "  Customer Types\n",
       "0         Normal\n",
       "1         Member"
      ]
     },
     "execution_count": 14,
     "metadata": {},
     "output_type": "execute_result"
    }
   ],
   "source": [
    "pd.read_sql_query(\"SELECT distinct customer_type AS 'Customer Types' FROM sales\",conn)"
   ]
  },
  {
   "cell_type": "markdown",
   "id": "8add2414",
   "metadata": {},
   "source": [
    "Q2. How many unique payment methods does the data have?"
   ]
  },
  {
   "cell_type": "code",
   "execution_count": 15,
   "id": "e8b142e6",
   "metadata": {},
   "outputs": [
    {
     "name": "stderr",
     "output_type": "stream",
     "text": [
      "C:\\Users\\asus\\AppData\\Local\\Temp\\ipykernel_66552\\3989716203.py:1: UserWarning: pandas only supports SQLAlchemy connectable (engine/connection) or database string URI or sqlite3 DBAPI2 connection. Other DBAPI2 objects are not tested. Please consider using SQLAlchemy.\n",
      "  pd.read_sql_query(\"SELECT distinct payment AS 'Payment Methods' FROM sales\",conn)\n"
     ]
    },
    {
     "data": {
      "text/html": [
       "<div>\n",
       "<style scoped>\n",
       "    .dataframe tbody tr th:only-of-type {\n",
       "        vertical-align: middle;\n",
       "    }\n",
       "\n",
       "    .dataframe tbody tr th {\n",
       "        vertical-align: top;\n",
       "    }\n",
       "\n",
       "    .dataframe thead th {\n",
       "        text-align: right;\n",
       "    }\n",
       "</style>\n",
       "<table border=\"1\" class=\"dataframe\">\n",
       "  <thead>\n",
       "    <tr style=\"text-align: right;\">\n",
       "      <th></th>\n",
       "      <th>Payment Methods</th>\n",
       "    </tr>\n",
       "  </thead>\n",
       "  <tbody>\n",
       "    <tr>\n",
       "      <th>0</th>\n",
       "      <td>Credit card</td>\n",
       "    </tr>\n",
       "    <tr>\n",
       "      <th>1</th>\n",
       "      <td>Ewallet</td>\n",
       "    </tr>\n",
       "    <tr>\n",
       "      <th>2</th>\n",
       "      <td>Cash</td>\n",
       "    </tr>\n",
       "  </tbody>\n",
       "</table>\n",
       "</div>"
      ],
      "text/plain": [
       "  Payment Methods\n",
       "0     Credit card\n",
       "1         Ewallet\n",
       "2            Cash"
      ]
     },
     "execution_count": 15,
     "metadata": {},
     "output_type": "execute_result"
    }
   ],
   "source": [
    "pd.read_sql_query(\"SELECT distinct payment AS 'Payment Methods' FROM sales\",conn)"
   ]
  },
  {
   "cell_type": "markdown",
   "id": "d9275a12",
   "metadata": {},
   "source": [
    "Q3. What is the most common customer type?"
   ]
  },
  {
   "cell_type": "code",
   "execution_count": 18,
   "id": "f2e27915",
   "metadata": {},
   "outputs": [
    {
     "name": "stderr",
     "output_type": "stream",
     "text": [
      "C:\\Users\\asus\\AppData\\Local\\Temp\\ipykernel_66552\\1421161836.py:1: UserWarning: pandas only supports SQLAlchemy connectable (engine/connection) or database string URI or sqlite3 DBAPI2 connection. Other DBAPI2 objects are not tested. Please consider using SQLAlchemy.\n",
      "  pd.read_sql_query(\"SELECT distinct customer_type AS 'Customer Types', count(*) AS Count FROM sales GROUP BY customer_type ORDER BY count(*) DESC\",conn)\n"
     ]
    },
    {
     "data": {
      "text/html": [
       "<div>\n",
       "<style scoped>\n",
       "    .dataframe tbody tr th:only-of-type {\n",
       "        vertical-align: middle;\n",
       "    }\n",
       "\n",
       "    .dataframe tbody tr th {\n",
       "        vertical-align: top;\n",
       "    }\n",
       "\n",
       "    .dataframe thead th {\n",
       "        text-align: right;\n",
       "    }\n",
       "</style>\n",
       "<table border=\"1\" class=\"dataframe\">\n",
       "  <thead>\n",
       "    <tr style=\"text-align: right;\">\n",
       "      <th></th>\n",
       "      <th>Customer Types</th>\n",
       "      <th>Count</th>\n",
       "    </tr>\n",
       "  </thead>\n",
       "  <tbody>\n",
       "    <tr>\n",
       "      <th>0</th>\n",
       "      <td>Member</td>\n",
       "      <td>501</td>\n",
       "    </tr>\n",
       "    <tr>\n",
       "      <th>1</th>\n",
       "      <td>Normal</td>\n",
       "      <td>498</td>\n",
       "    </tr>\n",
       "  </tbody>\n",
       "</table>\n",
       "</div>"
      ],
      "text/plain": [
       "  Customer Types  Count\n",
       "0         Member    501\n",
       "1         Normal    498"
      ]
     },
     "execution_count": 18,
     "metadata": {},
     "output_type": "execute_result"
    }
   ],
   "source": [
    "pd.read_sql_query(\"SELECT distinct customer_type AS 'Customer Types', count(*) AS Count FROM sales GROUP BY customer_type ORDER BY count(*) DESC\",conn)"
   ]
  },
  {
   "cell_type": "markdown",
   "id": "75d0b32a",
   "metadata": {},
   "source": [
    "Q4. Which customer type buys the most?"
   ]
  },
  {
   "cell_type": "code",
   "execution_count": 20,
   "id": "9e257c10",
   "metadata": {},
   "outputs": [
    {
     "name": "stderr",
     "output_type": "stream",
     "text": [
      "C:\\Users\\asus\\AppData\\Local\\Temp\\ipykernel_66552\\1816349190.py:1: UserWarning: pandas only supports SQLAlchemy connectable (engine/connection) or database string URI or sqlite3 DBAPI2 connection. Other DBAPI2 objects are not tested. Please consider using SQLAlchemy.\n",
      "  pd.read_sql_query(\"SELECT distinct customer_type AS 'Customer Types', count(*) AS 'Buy Count' FROM sales GROUP BY customer_type ORDER BY count(*) DESC limit 1\",conn)\n"
     ]
    },
    {
     "data": {
      "text/html": [
       "<div>\n",
       "<style scoped>\n",
       "    .dataframe tbody tr th:only-of-type {\n",
       "        vertical-align: middle;\n",
       "    }\n",
       "\n",
       "    .dataframe tbody tr th {\n",
       "        vertical-align: top;\n",
       "    }\n",
       "\n",
       "    .dataframe thead th {\n",
       "        text-align: right;\n",
       "    }\n",
       "</style>\n",
       "<table border=\"1\" class=\"dataframe\">\n",
       "  <thead>\n",
       "    <tr style=\"text-align: right;\">\n",
       "      <th></th>\n",
       "      <th>Customer Types</th>\n",
       "      <th>Buy Count</th>\n",
       "    </tr>\n",
       "  </thead>\n",
       "  <tbody>\n",
       "    <tr>\n",
       "      <th>0</th>\n",
       "      <td>Member</td>\n",
       "      <td>501</td>\n",
       "    </tr>\n",
       "  </tbody>\n",
       "</table>\n",
       "</div>"
      ],
      "text/plain": [
       "  Customer Types  Buy Count\n",
       "0         Member        501"
      ]
     },
     "execution_count": 20,
     "metadata": {},
     "output_type": "execute_result"
    }
   ],
   "source": [
    "pd.read_sql_query(\"SELECT distinct customer_type AS 'Customer Types', count(*) AS 'Buy Count' FROM sales GROUP BY customer_type ORDER BY count(*) DESC limit 1\",conn)"
   ]
  },
  {
   "cell_type": "markdown",
   "id": "63172278",
   "metadata": {},
   "source": [
    "Q5. What is the gender of most of the customers?"
   ]
  },
  {
   "cell_type": "code",
   "execution_count": 21,
   "id": "a523eb1d",
   "metadata": {},
   "outputs": [
    {
     "name": "stderr",
     "output_type": "stream",
     "text": [
      "C:\\Users\\asus\\AppData\\Local\\Temp\\ipykernel_66552\\3957537751.py:1: UserWarning: pandas only supports SQLAlchemy connectable (engine/connection) or database string URI or sqlite3 DBAPI2 connection. Other DBAPI2 objects are not tested. Please consider using SQLAlchemy.\n",
      "  pd.read_sql_query(\"SELECT gender AS Gender, count(*) AS 'Buy Count' FROM sales GROUP BY gender ORDER BY count(*) DESC\",conn)\n"
     ]
    },
    {
     "data": {
      "text/html": [
       "<div>\n",
       "<style scoped>\n",
       "    .dataframe tbody tr th:only-of-type {\n",
       "        vertical-align: middle;\n",
       "    }\n",
       "\n",
       "    .dataframe tbody tr th {\n",
       "        vertical-align: top;\n",
       "    }\n",
       "\n",
       "    .dataframe thead th {\n",
       "        text-align: right;\n",
       "    }\n",
       "</style>\n",
       "<table border=\"1\" class=\"dataframe\">\n",
       "  <thead>\n",
       "    <tr style=\"text-align: right;\">\n",
       "      <th></th>\n",
       "      <th>Gender</th>\n",
       "      <th>Buy Count</th>\n",
       "    </tr>\n",
       "  </thead>\n",
       "  <tbody>\n",
       "    <tr>\n",
       "      <th>0</th>\n",
       "      <td>Female</td>\n",
       "      <td>500</td>\n",
       "    </tr>\n",
       "    <tr>\n",
       "      <th>1</th>\n",
       "      <td>Male</td>\n",
       "      <td>499</td>\n",
       "    </tr>\n",
       "  </tbody>\n",
       "</table>\n",
       "</div>"
      ],
      "text/plain": [
       "   Gender  Buy Count\n",
       "0  Female        500\n",
       "1    Male        499"
      ]
     },
     "execution_count": 21,
     "metadata": {},
     "output_type": "execute_result"
    }
   ],
   "source": [
    "pd.read_sql_query(\"SELECT gender AS Gender, count(*) AS 'Buy Count' FROM sales GROUP BY gender ORDER BY count(*) DESC\",conn)"
   ]
  },
  {
   "cell_type": "markdown",
   "id": "675d479a",
   "metadata": {},
   "source": [
    "Q6. What is the gender distribution per branch?"
   ]
  },
  {
   "cell_type": "code",
   "execution_count": 22,
   "id": "91c4636b",
   "metadata": {},
   "outputs": [
    {
     "name": "stderr",
     "output_type": "stream",
     "text": [
      "C:\\Users\\asus\\AppData\\Local\\Temp\\ipykernel_66552\\2047215753.py:1: UserWarning: pandas only supports SQLAlchemy connectable (engine/connection) or database string URI or sqlite3 DBAPI2 connection. Other DBAPI2 objects are not tested. Please consider using SQLAlchemy.\n",
      "  pd.read_sql_query(\"SELECT gender AS Gender, branch AS Branch, count(gender) AS 'Gender Count' FROM sales GROUP BY gender, branch ORDER BY count(gender) DESC\",conn)\n"
     ]
    },
    {
     "data": {
      "text/html": [
       "<div>\n",
       "<style scoped>\n",
       "    .dataframe tbody tr th:only-of-type {\n",
       "        vertical-align: middle;\n",
       "    }\n",
       "\n",
       "    .dataframe tbody tr th {\n",
       "        vertical-align: top;\n",
       "    }\n",
       "\n",
       "    .dataframe thead th {\n",
       "        text-align: right;\n",
       "    }\n",
       "</style>\n",
       "<table border=\"1\" class=\"dataframe\">\n",
       "  <thead>\n",
       "    <tr style=\"text-align: right;\">\n",
       "      <th></th>\n",
       "      <th>Gender</th>\n",
       "      <th>Branch</th>\n",
       "      <th>Gender Count</th>\n",
       "    </tr>\n",
       "  </thead>\n",
       "  <tbody>\n",
       "    <tr>\n",
       "      <th>0</th>\n",
       "      <td>Male</td>\n",
       "      <td>A</td>\n",
       "      <td>179</td>\n",
       "    </tr>\n",
       "    <tr>\n",
       "      <th>1</th>\n",
       "      <td>Female</td>\n",
       "      <td>C</td>\n",
       "      <td>178</td>\n",
       "    </tr>\n",
       "    <tr>\n",
       "      <th>2</th>\n",
       "      <td>Male</td>\n",
       "      <td>B</td>\n",
       "      <td>170</td>\n",
       "    </tr>\n",
       "    <tr>\n",
       "      <th>3</th>\n",
       "      <td>Female</td>\n",
       "      <td>B</td>\n",
       "      <td>161</td>\n",
       "    </tr>\n",
       "    <tr>\n",
       "      <th>4</th>\n",
       "      <td>Female</td>\n",
       "      <td>A</td>\n",
       "      <td>161</td>\n",
       "    </tr>\n",
       "    <tr>\n",
       "      <th>5</th>\n",
       "      <td>Male</td>\n",
       "      <td>C</td>\n",
       "      <td>150</td>\n",
       "    </tr>\n",
       "  </tbody>\n",
       "</table>\n",
       "</div>"
      ],
      "text/plain": [
       "   Gender Branch  Gender Count\n",
       "0    Male      A           179\n",
       "1  Female      C           178\n",
       "2    Male      B           170\n",
       "3  Female      B           161\n",
       "4  Female      A           161\n",
       "5    Male      C           150"
      ]
     },
     "execution_count": 22,
     "metadata": {},
     "output_type": "execute_result"
    }
   ],
   "source": [
    "pd.read_sql_query(\"SELECT gender AS Gender, branch AS Branch, count(gender) AS 'Gender Count' FROM sales GROUP BY gender, branch ORDER BY count(gender) DESC\",conn)"
   ]
  },
  {
   "cell_type": "markdown",
   "id": "c1eddb5c",
   "metadata": {},
   "source": [
    "Q7. Which time of the day do customers give most ratings?"
   ]
  },
  {
   "cell_type": "code",
   "execution_count": 23,
   "id": "5a893758",
   "metadata": {},
   "outputs": [
    {
     "name": "stderr",
     "output_type": "stream",
     "text": [
      "C:\\Users\\asus\\AppData\\Local\\Temp\\ipykernel_66552\\3373989083.py:1: UserWarning: pandas only supports SQLAlchemy connectable (engine/connection) or database string URI or sqlite3 DBAPI2 connection. Other DBAPI2 objects are not tested. Please consider using SQLAlchemy.\n",
      "  pd.read_sql_query(\"SELECT time_of_day AS 'Time of the day', avg(rating) AS 'Avg. Rating' FROM sales GROUP BY time_of_day ORDER BY avg(rating) DESC\",conn)\n"
     ]
    },
    {
     "data": {
      "text/html": [
       "<div>\n",
       "<style scoped>\n",
       "    .dataframe tbody tr th:only-of-type {\n",
       "        vertical-align: middle;\n",
       "    }\n",
       "\n",
       "    .dataframe tbody tr th {\n",
       "        vertical-align: top;\n",
       "    }\n",
       "\n",
       "    .dataframe thead th {\n",
       "        text-align: right;\n",
       "    }\n",
       "</style>\n",
       "<table border=\"1\" class=\"dataframe\">\n",
       "  <thead>\n",
       "    <tr style=\"text-align: right;\">\n",
       "      <th></th>\n",
       "      <th>Time of the day</th>\n",
       "      <th>Avg. Rating</th>\n",
       "    </tr>\n",
       "  </thead>\n",
       "  <tbody>\n",
       "    <tr>\n",
       "      <th>0</th>\n",
       "      <td>Afternoon</td>\n",
       "      <td>7.00176</td>\n",
       "    </tr>\n",
       "    <tr>\n",
       "      <th>1</th>\n",
       "      <td>Morning</td>\n",
       "      <td>6.97474</td>\n",
       "    </tr>\n",
       "    <tr>\n",
       "      <th>2</th>\n",
       "      <td>Evening</td>\n",
       "      <td>6.94085</td>\n",
       "    </tr>\n",
       "  </tbody>\n",
       "</table>\n",
       "</div>"
      ],
      "text/plain": [
       "  Time of the day  Avg. Rating\n",
       "0       Afternoon      7.00176\n",
       "1         Morning      6.97474\n",
       "2         Evening      6.94085"
      ]
     },
     "execution_count": 23,
     "metadata": {},
     "output_type": "execute_result"
    }
   ],
   "source": [
    "pd.read_sql_query(\"SELECT time_of_day AS 'Time of the day', avg(rating) AS 'Avg. Rating' FROM sales GROUP BY time_of_day ORDER BY avg(rating) DESC\",conn)"
   ]
  },
  {
   "cell_type": "markdown",
   "id": "29a68511",
   "metadata": {},
   "source": [
    "Q8. Which time of the day do customers give most ratings per branch?"
   ]
  },
  {
   "cell_type": "code",
   "execution_count": 24,
   "id": "6e40199c",
   "metadata": {},
   "outputs": [
    {
     "name": "stderr",
     "output_type": "stream",
     "text": [
      "C:\\Users\\asus\\AppData\\Local\\Temp\\ipykernel_66552\\1210618140.py:1: UserWarning: pandas only supports SQLAlchemy connectable (engine/connection) or database string URI or sqlite3 DBAPI2 connection. Other DBAPI2 objects are not tested. Please consider using SQLAlchemy.\n",
      "  pd.read_sql_query(\"SELECT time_of_day AS 'Time of the day', branch AS Branch, avg(rating) AS 'Avg. Rating' FROM sales GROUP BY time_of_day, branch ORDER BY avg(rating) DESC\",conn)\n"
     ]
    },
    {
     "data": {
      "text/html": [
       "<div>\n",
       "<style scoped>\n",
       "    .dataframe tbody tr th:only-of-type {\n",
       "        vertical-align: middle;\n",
       "    }\n",
       "\n",
       "    .dataframe tbody tr th {\n",
       "        vertical-align: top;\n",
       "    }\n",
       "\n",
       "    .dataframe thead th {\n",
       "        text-align: right;\n",
       "    }\n",
       "</style>\n",
       "<table border=\"1\" class=\"dataframe\">\n",
       "  <thead>\n",
       "    <tr style=\"text-align: right;\">\n",
       "      <th></th>\n",
       "      <th>Time of the day</th>\n",
       "      <th>Branch</th>\n",
       "      <th>Avg. Rating</th>\n",
       "    </tr>\n",
       "  </thead>\n",
       "  <tbody>\n",
       "    <tr>\n",
       "      <th>0</th>\n",
       "      <td>Evening</td>\n",
       "      <td>C</td>\n",
       "      <td>7.11304</td>\n",
       "    </tr>\n",
       "    <tr>\n",
       "      <th>1</th>\n",
       "      <td>Afternoon</td>\n",
       "      <td>A</td>\n",
       "      <td>7.09304</td>\n",
       "    </tr>\n",
       "    <tr>\n",
       "      <th>2</th>\n",
       "      <td>Afternoon</td>\n",
       "      <td>C</td>\n",
       "      <td>7.07987</td>\n",
       "    </tr>\n",
       "    <tr>\n",
       "      <th>3</th>\n",
       "      <td>Morning</td>\n",
       "      <td>A</td>\n",
       "      <td>7.00548</td>\n",
       "    </tr>\n",
       "    <tr>\n",
       "      <th>4</th>\n",
       "      <td>Morning</td>\n",
       "      <td>C</td>\n",
       "      <td>6.97458</td>\n",
       "    </tr>\n",
       "    <tr>\n",
       "      <th>5</th>\n",
       "      <td>Evening</td>\n",
       "      <td>A</td>\n",
       "      <td>6.94495</td>\n",
       "    </tr>\n",
       "    <tr>\n",
       "      <th>6</th>\n",
       "      <td>Morning</td>\n",
       "      <td>B</td>\n",
       "      <td>6.93621</td>\n",
       "    </tr>\n",
       "    <tr>\n",
       "      <th>7</th>\n",
       "      <td>Afternoon</td>\n",
       "      <td>B</td>\n",
       "      <td>6.81549</td>\n",
       "    </tr>\n",
       "    <tr>\n",
       "      <th>8</th>\n",
       "      <td>Evening</td>\n",
       "      <td>B</td>\n",
       "      <td>6.78626</td>\n",
       "    </tr>\n",
       "  </tbody>\n",
       "</table>\n",
       "</div>"
      ],
      "text/plain": [
       "  Time of the day Branch  Avg. Rating\n",
       "0         Evening      C      7.11304\n",
       "1       Afternoon      A      7.09304\n",
       "2       Afternoon      C      7.07987\n",
       "3         Morning      A      7.00548\n",
       "4         Morning      C      6.97458\n",
       "5         Evening      A      6.94495\n",
       "6         Morning      B      6.93621\n",
       "7       Afternoon      B      6.81549\n",
       "8         Evening      B      6.78626"
      ]
     },
     "execution_count": 24,
     "metadata": {},
     "output_type": "execute_result"
    }
   ],
   "source": [
    "pd.read_sql_query(\"SELECT time_of_day AS 'Time of the day', branch AS Branch, avg(rating) AS 'Avg. Rating' FROM sales GROUP BY time_of_day, branch ORDER BY avg(rating) DESC\",conn)"
   ]
  },
  {
   "cell_type": "markdown",
   "id": "fef5fca6",
   "metadata": {},
   "source": [
    "Q9. Which day fo the week has the best avg ratings?"
   ]
  },
  {
   "cell_type": "code",
   "execution_count": 26,
   "id": "2a9ea3f6",
   "metadata": {},
   "outputs": [
    {
     "name": "stderr",
     "output_type": "stream",
     "text": [
      "C:\\Users\\asus\\AppData\\Local\\Temp\\ipykernel_66552\\3844966413.py:1: UserWarning: pandas only supports SQLAlchemy connectable (engine/connection) or database string URI or sqlite3 DBAPI2 connection. Other DBAPI2 objects are not tested. Please consider using SQLAlchemy.\n",
      "  pd.read_sql_query(\"SELECT day AS 'Day', avg(rating) AS 'Avg. Rating' FROM sales GROUP BY day ORDER BY avg(rating) DESC limit 1\",conn)\n"
     ]
    },
    {
     "data": {
      "text/html": [
       "<div>\n",
       "<style scoped>\n",
       "    .dataframe tbody tr th:only-of-type {\n",
       "        vertical-align: middle;\n",
       "    }\n",
       "\n",
       "    .dataframe tbody tr th {\n",
       "        vertical-align: top;\n",
       "    }\n",
       "\n",
       "    .dataframe thead th {\n",
       "        text-align: right;\n",
       "    }\n",
       "</style>\n",
       "<table border=\"1\" class=\"dataframe\">\n",
       "  <thead>\n",
       "    <tr style=\"text-align: right;\">\n",
       "      <th></th>\n",
       "      <th>Day</th>\n",
       "      <th>Avg. Rating</th>\n",
       "    </tr>\n",
       "  </thead>\n",
       "  <tbody>\n",
       "    <tr>\n",
       "      <th>0</th>\n",
       "      <td>Monday</td>\n",
       "      <td>7.1528</td>\n",
       "    </tr>\n",
       "  </tbody>\n",
       "</table>\n",
       "</div>"
      ],
      "text/plain": [
       "      Day  Avg. Rating\n",
       "0  Monday       7.1528"
      ]
     },
     "execution_count": 26,
     "metadata": {},
     "output_type": "execute_result"
    }
   ],
   "source": [
    "pd.read_sql_query(\"SELECT day AS 'Day', avg(rating) AS 'Avg. Rating' FROM sales GROUP BY day ORDER BY avg(rating) DESC limit 1\",conn)"
   ]
  },
  {
   "cell_type": "markdown",
   "id": "ed8a4cd2",
   "metadata": {},
   "source": [
    "Q10. Which day of the week has the best average ratings per branch?"
   ]
  },
  {
   "cell_type": "code",
   "execution_count": 29,
   "id": "bebbf019",
   "metadata": {},
   "outputs": [
    {
     "name": "stderr",
     "output_type": "stream",
     "text": [
      "C:\\Users\\asus\\AppData\\Local\\Temp\\ipykernel_66552\\416798961.py:1: UserWarning: pandas only supports SQLAlchemy connectable (engine/connection) or database string URI or sqlite3 DBAPI2 connection. Other DBAPI2 objects are not tested. Please consider using SQLAlchemy.\n",
      "  pd.read_sql_query(\"SELECT day AS 'Day', branch AS Branch, avg(rating) AS 'Avg. Rating' FROM sales GROUP BY day, branch ORDER BY avg(rating) DESC limit 1\",conn)\n"
     ]
    },
    {
     "data": {
      "text/html": [
       "<div>\n",
       "<style scoped>\n",
       "    .dataframe tbody tr th:only-of-type {\n",
       "        vertical-align: middle;\n",
       "    }\n",
       "\n",
       "    .dataframe tbody tr th {\n",
       "        vertical-align: top;\n",
       "    }\n",
       "\n",
       "    .dataframe thead th {\n",
       "        text-align: right;\n",
       "    }\n",
       "</style>\n",
       "<table border=\"1\" class=\"dataframe\">\n",
       "  <thead>\n",
       "    <tr style=\"text-align: right;\">\n",
       "      <th></th>\n",
       "      <th>Day</th>\n",
       "      <th>Branch</th>\n",
       "      <th>Avg. Rating</th>\n",
       "    </tr>\n",
       "  </thead>\n",
       "  <tbody>\n",
       "    <tr>\n",
       "      <th>0</th>\n",
       "      <td>Monday</td>\n",
       "      <td>B</td>\n",
       "      <td>7.33333</td>\n",
       "    </tr>\n",
       "  </tbody>\n",
       "</table>\n",
       "</div>"
      ],
      "text/plain": [
       "      Day Branch  Avg. Rating\n",
       "0  Monday      B      7.33333"
      ]
     },
     "execution_count": 29,
     "metadata": {},
     "output_type": "execute_result"
    }
   ],
   "source": [
    "pd.read_sql_query(\"SELECT day AS 'Day', branch AS Branch, avg(rating) AS 'Avg. Rating' FROM sales GROUP BY day, branch ORDER BY avg(rating) DESC limit 1\",conn)"
   ]
  }
 ],
 "metadata": {
  "kernelspec": {
   "display_name": "Python 3 (ipykernel)",
   "language": "python",
   "name": "python3"
  },
  "language_info": {
   "codemirror_mode": {
    "name": "ipython",
    "version": 3
   },
   "file_extension": ".py",
   "mimetype": "text/x-python",
   "name": "python",
   "nbconvert_exporter": "python",
   "pygments_lexer": "ipython3",
   "version": "3.11.1"
  }
 },
 "nbformat": 4,
 "nbformat_minor": 5
}
